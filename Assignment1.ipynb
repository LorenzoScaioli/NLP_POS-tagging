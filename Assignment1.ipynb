{
  "cells": [
    {
      "cell_type": "markdown",
      "metadata": {
        "id": "-WeCeITXoxLf"
      },
      "source": [
        "# Assignment 1\n",
        "\n",
        "**Credits**: Federico Ruggeri, Eleonora Mancini, Paolo Torroni\n",
        "\n",
        "**Keywords**: POS tagging, Sequence labelling, RNNs"
      ]
    },
    {
      "cell_type": "markdown",
      "metadata": {
        "id": "xU8u6PyGerJ1"
      },
      "source": [
        "\n",
        "# Contact\n",
        "\n",
        "For any doubt, question, issue or help, you can always contact us at the following email addresses:\n",
        "\n",
        "Teaching Assistants:\n",
        "\n",
        "* Federico Ruggeri -> federico.ruggeri6@unibo.it\n",
        "* Eleonora Mancini -> e.mancini@unibo.it\n",
        "\n",
        "Professor:\n",
        "\n",
        "* Paolo Torroni -> p.torroni@unibo.it"
      ]
    },
    {
      "cell_type": "markdown",
      "metadata": {
        "id": "Hn5lqLjaerJ2"
      },
      "source": [
        "# Introduction\n",
        "\n",
        "You are tasked to address the task of POS tagging.\n",
        "\n",
        "<center>\n",
        "    <img src=\"images/pos_tagging.png\" alt=\"POS tagging\" />\n",
        "</center>"
      ]
    },
    {
      "cell_type": "markdown",
      "metadata": {
        "id": "gl85WY79erJ2"
      },
      "source": [
        "# [Task 1 - 0.5 points] Corpus\n",
        "\n",
        "You are going to work with the [Penn TreeBank corpus](https://raw.githubusercontent.com/nltk/nltk_data/gh-pages/packages/corpora/dependency_treebank.zip).\n",
        "\n",
        "**Ignore** the numeric value in the third column, use **only** the words/symbols and their POS label.\n",
        "\n",
        "### Example\n",
        "\n",
        "```Pierre\tNNP\t2\n",
        "Vinken\tNNP\t8\n",
        ",\t,\t2\n",
        "61\tCD\t5\n",
        "years\tNNS\t6\n",
        "old\tJJ\t2\n",
        ",\t,\t2\n",
        "will\tMD\t0\n",
        "join\tVB\t8\n",
        "the\tDT\t11\n",
        "board\tNN\t9\n",
        "as\tIN\t9\n",
        "a\tDT\t15\n",
        "nonexecutive\tJJ\t15\n",
        "director\tNN\t12\n",
        "Nov.\tNNP\t9\n",
        "29\tCD\t16\n",
        ".\t.\t8\n",
        "```"
      ]
    },
    {
      "cell_type": "markdown",
      "metadata": {
        "id": "4DBSDHSeerJ3"
      },
      "source": [
        "### Splits\n",
        "\n",
        "The corpus contains 200 documents.\n",
        "\n",
        "   * **Train**: Documents 1-100\n",
        "   * **Validation**: Documents 101-150\n",
        "   * **Test**: Documents 151-199"
      ]
    },
    {
      "cell_type": "markdown",
      "metadata": {
        "id": "VBhINLEaerJ3"
      },
      "source": [
        "### Instructions\n",
        "\n",
        "* **Download** the corpus.\n",
        "* **Encode** the corpus into a pandas.DataFrame object.\n",
        "* **Split** it in training, validation, and test sets."
      ]
    },
    {
      "cell_type": "markdown",
      "metadata": {
        "id": "azUjXF08erJ4"
      },
      "source": [
        "#### Preliminaries"
      ]
    },
    {
      "cell_type": "markdown",
      "metadata": {
        "id": "kp4Q3iL6erJ4"
      },
      "source": [
        "#### Out of Vocabulary (OOV) words in training set\n",
        "We see words in the training set that are not alredy embedded through Glove (50) model, in addition we define the set oov_terms with all those words."
      ]
    },
    {
      "cell_type": "code",
      "execution_count": 1,
      "metadata": {
        "execution": {
          "iopub.execute_input": "2023-11-20T17:28:32.878447Z",
          "iopub.status.busy": "2023-11-20T17:28:32.878004Z",
          "iopub.status.idle": "2023-11-20T17:28:33.261992Z",
          "shell.execute_reply": "2023-11-20T17:28:33.261143Z",
          "shell.execute_reply.started": "2023-11-20T17:28:32.878414Z"
        },
        "id": "geRWC2XxerJ4",
        "trusted": true
      },
      "outputs": [],
      "source": [
        "# file management\n",
        "import urllib\n",
        "import zipfile\n",
        "from pathlib import Path\n",
        "\n",
        "# dataframe management\n",
        "import pandas as pd\n",
        "\n",
        "# data manipulation\n",
        "import numpy as np\n",
        "\n",
        "# for readability\n",
        "from typing import Iterable\n",
        "from tqdm import tqdm"
      ]
    },
    {
      "cell_type": "markdown",
      "metadata": {
        "id": "5_vPMgMyerJ6"
      },
      "source": [
        "#### Download"
      ]
    },
    {
      "cell_type": "code",
      "execution_count": 2,
      "metadata": {
        "execution": {
          "iopub.execute_input": "2023-11-20T17:28:33.264066Z",
          "iopub.status.busy": "2023-11-20T17:28:33.263670Z",
          "iopub.status.idle": "2023-11-20T17:28:33.273576Z",
          "shell.execute_reply": "2023-11-20T17:28:33.272666Z",
          "shell.execute_reply.started": "2023-11-20T17:28:33.264039Z"
        },
        "id": "5AHbyJvIerJ6",
        "trusted": true
      },
      "outputs": [],
      "source": [
        "class DownloadProgressBar(tqdm):\n",
        "    def update_to(self, b=1, bsize=1, tsize=None):\n",
        "        if tsize is not None:\n",
        "            self.total = tsize\n",
        "        self.update(b * bsize - self.n)\n",
        "\n",
        "def download_url(download_path: Path, url: str):\n",
        "    with DownloadProgressBar(unit='B', unit_scale=True,\n",
        "                             miniters=1, desc=url.split('/')[-1]) as t:\n",
        "        urllib.request.urlretrieve(url, filename=download_path, reporthook=t.update_to)\n",
        "\n",
        "def download_dataset(download_path: Path, url: str):\n",
        "    print(\"Downloading dataset...\")\n",
        "    download_url(url=url, download_path=download_path)\n",
        "    print(\"Download complete!\")\n",
        "\n",
        "def extract_dataset(download_path: Path, extract_path: Path):\n",
        "    print(\"Extracting dataset... (it may take a while...)\")\n",
        "\n",
        "    with zipfile.ZipFile(download_path) as loaded_tar:\n",
        "        loaded_tar.extractall(path=extract_path, pwd=None)\n",
        "    print(\"Extraction completed!\")"
      ]
    },
    {
      "cell_type": "code",
      "execution_count": 3,
      "metadata": {
        "colab": {
          "base_uri": "https://localhost:8080/"
        },
        "execution": {
          "iopub.execute_input": "2023-11-20T17:28:33.274952Z",
          "iopub.status.busy": "2023-11-20T17:28:33.274676Z",
          "iopub.status.idle": "2023-11-20T17:28:33.538381Z",
          "shell.execute_reply": "2023-11-20T17:28:33.537434Z",
          "shell.execute_reply.started": "2023-11-20T17:28:33.274927Z"
        },
        "id": "TjwV2cFTerJ7",
        "outputId": "ccd7dd48-6810-4788-db69-0e260243cb0b",
        "trusted": true
      },
      "outputs": [
        {
          "output_type": "stream",
          "name": "stdout",
          "text": [
            "Current work directory: /content\n",
            "Downloading dataset...\n"
          ]
        },
        {
          "output_type": "stream",
          "name": "stderr",
          "text": [
            "dependency_treebank.zip: 459kB [00:00, 4.41MB/s]                           "
          ]
        },
        {
          "output_type": "stream",
          "name": "stdout",
          "text": [
            "Download complete!\n",
            "Extracting dataset... (it may take a while...)\n"
          ]
        },
        {
          "output_type": "stream",
          "name": "stderr",
          "text": [
            "\n"
          ]
        },
        {
          "output_type": "stream",
          "name": "stdout",
          "text": [
            "Extraction completed!\n"
          ]
        }
      ],
      "source": [
        "url = \"https://raw.githubusercontent.com/nltk/nltk_data/gh-pages/packages/corpora/dependency_treebank.zip\"\n",
        "dataset_name = \"dependency_treebank\"\n",
        "\n",
        "print(f\"Current work directory: {Path.cwd()}\")\n",
        "dataset_folder = Path.cwd().joinpath(\"Datasets\")\n",
        "\n",
        "if not dataset_folder.exists():\n",
        "    dataset_folder.mkdir(parents=True)\n",
        "\n",
        "dataset_tar_path = dataset_folder.joinpath(\"dependency_treebank.zip\")\n",
        "dataset_path = dataset_folder.joinpath(dataset_name)\n",
        "\n",
        "if not dataset_tar_path.exists():\n",
        "    download_dataset(dataset_tar_path, url)\n",
        "\n",
        "if not dataset_path.exists():\n",
        "    extract_dataset(dataset_tar_path, dataset_folder)"
      ]
    },
    {
      "cell_type": "markdown",
      "metadata": {
        "id": "2DVROHUherJ9"
      },
      "source": [
        "#### Encode and Split\n",
        "\n",
        "The aim of the code below is to find a way to create a dataframe starting from all the files downloaded before.\n",
        "For every downloaded file, we check the number through the function find_number(), we decide if it belongs to train, validation or test given that number, we then split it into rows to get the word and the POS and to check where a phrase ends. Given all this informations we can create a list whose columns are:\n",
        "1. num_file: the number of the file\n",
        "2. phrase_id: the id of the phrase contained in a file\n",
        "3. text: the text that has to be analyzed\n",
        "4. pos: the tag assigned to the text\n",
        "5. split: the split to which the text belongs"
      ]
    },
    {
      "cell_type": "code",
      "execution_count": 4,
      "metadata": {
        "execution": {
          "iopub.execute_input": "2023-11-20T17:28:33.540010Z",
          "iopub.status.busy": "2023-11-20T17:28:33.539685Z",
          "iopub.status.idle": "2023-11-20T17:28:33.545402Z",
          "shell.execute_reply": "2023-11-20T17:28:33.544379Z",
          "shell.execute_reply.started": "2023-11-20T17:28:33.539983Z"
        },
        "id": "OaiKoGb3erJ9",
        "trusted": true
      },
      "outputs": [],
      "source": [
        "import re\n",
        "\n",
        "def find_number(string):\n",
        "    \"\"\"\n",
        "    This function finds the number written in a string.\n",
        "    \"\"\"\n",
        "    return re.findall(r'\\d+', string)\n"
      ]
    },
    {
      "cell_type": "code",
      "execution_count": 5,
      "metadata": {
        "execution": {
          "iopub.execute_input": "2023-11-20T17:28:33.549435Z",
          "iopub.status.busy": "2023-11-20T17:28:33.548953Z",
          "iopub.status.idle": "2023-11-20T17:28:33.785708Z",
          "shell.execute_reply": "2023-11-20T17:28:33.784627Z",
          "shell.execute_reply.started": "2023-11-20T17:28:33.549399Z"
        },
        "id": "TTtotZNkerJ9",
        "trusted": true
      },
      "outputs": [],
      "source": [
        "dataframe_rows = []\n",
        "id = 0\n",
        "\n",
        "folder = dataset_folder.joinpath(dataset_name)\n",
        "for file_path in folder.glob('*.dp'):\n",
        "    num_file = int(find_number(file_path.name)[0])\n",
        "    id = 1\n",
        "\n",
        "    with file_path.open(mode='r', encoding='utf-8') as text_file:\n",
        "\n",
        "        if num_file < 101:\n",
        "            split = \"train\"\n",
        "        elif num_file >= 101 and num_file < 151:\n",
        "            split = \"validation\"\n",
        "        else:\n",
        "            split = \"test\"\n",
        "\n",
        "        for row in text_file.readlines():\n",
        "            if row=='\\n' or row=='':\n",
        "                id += 1\n",
        "\n",
        "            else:\n",
        "                text, pos, _ = row.split('\\t')\n",
        "\n",
        "                dataframe_row = {\n",
        "                    \"num_file\": num_file,\n",
        "                    \"phrase_id\": str(num_file) + \"_\" + str(id),\n",
        "                    \"text\": text,\n",
        "                    \"pos\": pos,\n",
        "                    \"split\": split\n",
        "                }\n",
        "\n",
        "                dataframe_rows.append(dataframe_row)"
      ]
    },
    {
      "cell_type": "code",
      "execution_count": 6,
      "metadata": {
        "colab": {
          "base_uri": "https://localhost:8080/",
          "height": 677
        },
        "execution": {
          "iopub.execute_input": "2023-11-20T17:28:33.787673Z",
          "iopub.status.busy": "2023-11-20T17:28:33.787248Z",
          "iopub.status.idle": "2023-11-20T17:28:34.014786Z",
          "shell.execute_reply": "2023-11-20T17:28:34.013688Z",
          "shell.execute_reply.started": "2023-11-20T17:28:33.787633Z"
        },
        "id": "O01Zu0lAerJ-",
        "outputId": "cd04058a-a750-4743-85a2-1124aebc22f0",
        "trusted": true
      },
      "outputs": [
        {
          "output_type": "execute_result",
          "data": {
            "text/plain": [
              "    num_file phrase_id      text  pos  split\n",
              "0         75      75_1       The   DT  train\n",
              "1         75      75_1  Treasury  NNP  train\n",
              "2         75      75_1      said  VBD  train\n",
              "3         75      75_1        it  PRP  train\n",
              "4         75      75_1     plans  VBZ  train\n",
              "5         75      75_1        to   TO  train\n",
              "6         75      75_1      sell   VB  train\n",
              "7         75      75_1         $    $  train\n",
              "8         75      75_1        30   CD  train\n",
              "9         75      75_1   billion   CD  train\n",
              "10        75      75_1        in   IN  train\n",
              "11        75      75_1     notes  NNS  train\n",
              "12        75      75_1       and   CC  train\n",
              "13        75      75_1     bonds  NNS  train\n",
              "14        75      75_1      next   IN  train\n",
              "15        75      75_1      week   NN  train\n",
              "16        75      75_1         ,    ,  train\n",
              "17        75      75_1       but   CC  train\n",
              "18        75      75_1      said  VBD  train\n",
              "19        75      75_1       the   DT  train"
            ],
            "text/html": [
              "\n",
              "  <div id=\"df-2c287f9f-e12a-47d1-8c0b-a72e959f9ec9\" class=\"colab-df-container\">\n",
              "    <div>\n",
              "<style scoped>\n",
              "    .dataframe tbody tr th:only-of-type {\n",
              "        vertical-align: middle;\n",
              "    }\n",
              "\n",
              "    .dataframe tbody tr th {\n",
              "        vertical-align: top;\n",
              "    }\n",
              "\n",
              "    .dataframe thead th {\n",
              "        text-align: right;\n",
              "    }\n",
              "</style>\n",
              "<table border=\"1\" class=\"dataframe\">\n",
              "  <thead>\n",
              "    <tr style=\"text-align: right;\">\n",
              "      <th></th>\n",
              "      <th>num_file</th>\n",
              "      <th>phrase_id</th>\n",
              "      <th>text</th>\n",
              "      <th>pos</th>\n",
              "      <th>split</th>\n",
              "    </tr>\n",
              "  </thead>\n",
              "  <tbody>\n",
              "    <tr>\n",
              "      <th>0</th>\n",
              "      <td>75</td>\n",
              "      <td>75_1</td>\n",
              "      <td>The</td>\n",
              "      <td>DT</td>\n",
              "      <td>train</td>\n",
              "    </tr>\n",
              "    <tr>\n",
              "      <th>1</th>\n",
              "      <td>75</td>\n",
              "      <td>75_1</td>\n",
              "      <td>Treasury</td>\n",
              "      <td>NNP</td>\n",
              "      <td>train</td>\n",
              "    </tr>\n",
              "    <tr>\n",
              "      <th>2</th>\n",
              "      <td>75</td>\n",
              "      <td>75_1</td>\n",
              "      <td>said</td>\n",
              "      <td>VBD</td>\n",
              "      <td>train</td>\n",
              "    </tr>\n",
              "    <tr>\n",
              "      <th>3</th>\n",
              "      <td>75</td>\n",
              "      <td>75_1</td>\n",
              "      <td>it</td>\n",
              "      <td>PRP</td>\n",
              "      <td>train</td>\n",
              "    </tr>\n",
              "    <tr>\n",
              "      <th>4</th>\n",
              "      <td>75</td>\n",
              "      <td>75_1</td>\n",
              "      <td>plans</td>\n",
              "      <td>VBZ</td>\n",
              "      <td>train</td>\n",
              "    </tr>\n",
              "    <tr>\n",
              "      <th>5</th>\n",
              "      <td>75</td>\n",
              "      <td>75_1</td>\n",
              "      <td>to</td>\n",
              "      <td>TO</td>\n",
              "      <td>train</td>\n",
              "    </tr>\n",
              "    <tr>\n",
              "      <th>6</th>\n",
              "      <td>75</td>\n",
              "      <td>75_1</td>\n",
              "      <td>sell</td>\n",
              "      <td>VB</td>\n",
              "      <td>train</td>\n",
              "    </tr>\n",
              "    <tr>\n",
              "      <th>7</th>\n",
              "      <td>75</td>\n",
              "      <td>75_1</td>\n",
              "      <td>$</td>\n",
              "      <td>$</td>\n",
              "      <td>train</td>\n",
              "    </tr>\n",
              "    <tr>\n",
              "      <th>8</th>\n",
              "      <td>75</td>\n",
              "      <td>75_1</td>\n",
              "      <td>30</td>\n",
              "      <td>CD</td>\n",
              "      <td>train</td>\n",
              "    </tr>\n",
              "    <tr>\n",
              "      <th>9</th>\n",
              "      <td>75</td>\n",
              "      <td>75_1</td>\n",
              "      <td>billion</td>\n",
              "      <td>CD</td>\n",
              "      <td>train</td>\n",
              "    </tr>\n",
              "    <tr>\n",
              "      <th>10</th>\n",
              "      <td>75</td>\n",
              "      <td>75_1</td>\n",
              "      <td>in</td>\n",
              "      <td>IN</td>\n",
              "      <td>train</td>\n",
              "    </tr>\n",
              "    <tr>\n",
              "      <th>11</th>\n",
              "      <td>75</td>\n",
              "      <td>75_1</td>\n",
              "      <td>notes</td>\n",
              "      <td>NNS</td>\n",
              "      <td>train</td>\n",
              "    </tr>\n",
              "    <tr>\n",
              "      <th>12</th>\n",
              "      <td>75</td>\n",
              "      <td>75_1</td>\n",
              "      <td>and</td>\n",
              "      <td>CC</td>\n",
              "      <td>train</td>\n",
              "    </tr>\n",
              "    <tr>\n",
              "      <th>13</th>\n",
              "      <td>75</td>\n",
              "      <td>75_1</td>\n",
              "      <td>bonds</td>\n",
              "      <td>NNS</td>\n",
              "      <td>train</td>\n",
              "    </tr>\n",
              "    <tr>\n",
              "      <th>14</th>\n",
              "      <td>75</td>\n",
              "      <td>75_1</td>\n",
              "      <td>next</td>\n",
              "      <td>IN</td>\n",
              "      <td>train</td>\n",
              "    </tr>\n",
              "    <tr>\n",
              "      <th>15</th>\n",
              "      <td>75</td>\n",
              "      <td>75_1</td>\n",
              "      <td>week</td>\n",
              "      <td>NN</td>\n",
              "      <td>train</td>\n",
              "    </tr>\n",
              "    <tr>\n",
              "      <th>16</th>\n",
              "      <td>75</td>\n",
              "      <td>75_1</td>\n",
              "      <td>,</td>\n",
              "      <td>,</td>\n",
              "      <td>train</td>\n",
              "    </tr>\n",
              "    <tr>\n",
              "      <th>17</th>\n",
              "      <td>75</td>\n",
              "      <td>75_1</td>\n",
              "      <td>but</td>\n",
              "      <td>CC</td>\n",
              "      <td>train</td>\n",
              "    </tr>\n",
              "    <tr>\n",
              "      <th>18</th>\n",
              "      <td>75</td>\n",
              "      <td>75_1</td>\n",
              "      <td>said</td>\n",
              "      <td>VBD</td>\n",
              "      <td>train</td>\n",
              "    </tr>\n",
              "    <tr>\n",
              "      <th>19</th>\n",
              "      <td>75</td>\n",
              "      <td>75_1</td>\n",
              "      <td>the</td>\n",
              "      <td>DT</td>\n",
              "      <td>train</td>\n",
              "    </tr>\n",
              "  </tbody>\n",
              "</table>\n",
              "</div>\n",
              "    <div class=\"colab-df-buttons\">\n",
              "\n",
              "  <div class=\"colab-df-container\">\n",
              "    <button class=\"colab-df-convert\" onclick=\"convertToInteractive('df-2c287f9f-e12a-47d1-8c0b-a72e959f9ec9')\"\n",
              "            title=\"Convert this dataframe to an interactive table.\"\n",
              "            style=\"display:none;\">\n",
              "\n",
              "  <svg xmlns=\"http://www.w3.org/2000/svg\" height=\"24px\" viewBox=\"0 -960 960 960\">\n",
              "    <path d=\"M120-120v-720h720v720H120Zm60-500h600v-160H180v160Zm220 220h160v-160H400v160Zm0 220h160v-160H400v160ZM180-400h160v-160H180v160Zm440 0h160v-160H620v160ZM180-180h160v-160H180v160Zm440 0h160v-160H620v160Z\"/>\n",
              "  </svg>\n",
              "    </button>\n",
              "\n",
              "  <style>\n",
              "    .colab-df-container {\n",
              "      display:flex;\n",
              "      gap: 12px;\n",
              "    }\n",
              "\n",
              "    .colab-df-convert {\n",
              "      background-color: #E8F0FE;\n",
              "      border: none;\n",
              "      border-radius: 50%;\n",
              "      cursor: pointer;\n",
              "      display: none;\n",
              "      fill: #1967D2;\n",
              "      height: 32px;\n",
              "      padding: 0 0 0 0;\n",
              "      width: 32px;\n",
              "    }\n",
              "\n",
              "    .colab-df-convert:hover {\n",
              "      background-color: #E2EBFA;\n",
              "      box-shadow: 0px 1px 2px rgba(60, 64, 67, 0.3), 0px 1px 3px 1px rgba(60, 64, 67, 0.15);\n",
              "      fill: #174EA6;\n",
              "    }\n",
              "\n",
              "    .colab-df-buttons div {\n",
              "      margin-bottom: 4px;\n",
              "    }\n",
              "\n",
              "    [theme=dark] .colab-df-convert {\n",
              "      background-color: #3B4455;\n",
              "      fill: #D2E3FC;\n",
              "    }\n",
              "\n",
              "    [theme=dark] .colab-df-convert:hover {\n",
              "      background-color: #434B5C;\n",
              "      box-shadow: 0px 1px 3px 1px rgba(0, 0, 0, 0.15);\n",
              "      filter: drop-shadow(0px 1px 2px rgba(0, 0, 0, 0.3));\n",
              "      fill: #FFFFFF;\n",
              "    }\n",
              "  </style>\n",
              "\n",
              "    <script>\n",
              "      const buttonEl =\n",
              "        document.querySelector('#df-2c287f9f-e12a-47d1-8c0b-a72e959f9ec9 button.colab-df-convert');\n",
              "      buttonEl.style.display =\n",
              "        google.colab.kernel.accessAllowed ? 'block' : 'none';\n",
              "\n",
              "      async function convertToInteractive(key) {\n",
              "        const element = document.querySelector('#df-2c287f9f-e12a-47d1-8c0b-a72e959f9ec9');\n",
              "        const dataTable =\n",
              "          await google.colab.kernel.invokeFunction('convertToInteractive',\n",
              "                                                    [key], {});\n",
              "        if (!dataTable) return;\n",
              "\n",
              "        const docLinkHtml = 'Like what you see? Visit the ' +\n",
              "          '<a target=\"_blank\" href=https://colab.research.google.com/notebooks/data_table.ipynb>data table notebook</a>'\n",
              "          + ' to learn more about interactive tables.';\n",
              "        element.innerHTML = '';\n",
              "        dataTable['output_type'] = 'display_data';\n",
              "        await google.colab.output.renderOutput(dataTable, element);\n",
              "        const docLink = document.createElement('div');\n",
              "        docLink.innerHTML = docLinkHtml;\n",
              "        element.appendChild(docLink);\n",
              "      }\n",
              "    </script>\n",
              "  </div>\n",
              "\n",
              "\n",
              "<div id=\"df-c008675b-ce51-42e8-b708-44634ecda97a\">\n",
              "  <button class=\"colab-df-quickchart\" onclick=\"quickchart('df-c008675b-ce51-42e8-b708-44634ecda97a')\"\n",
              "            title=\"Suggest charts\"\n",
              "            style=\"display:none;\">\n",
              "\n",
              "<svg xmlns=\"http://www.w3.org/2000/svg\" height=\"24px\"viewBox=\"0 0 24 24\"\n",
              "     width=\"24px\">\n",
              "    <g>\n",
              "        <path d=\"M19 3H5c-1.1 0-2 .9-2 2v14c0 1.1.9 2 2 2h14c1.1 0 2-.9 2-2V5c0-1.1-.9-2-2-2zM9 17H7v-7h2v7zm4 0h-2V7h2v10zm4 0h-2v-4h2v4z\"/>\n",
              "    </g>\n",
              "</svg>\n",
              "  </button>\n",
              "\n",
              "<style>\n",
              "  .colab-df-quickchart {\n",
              "      --bg-color: #E8F0FE;\n",
              "      --fill-color: #1967D2;\n",
              "      --hover-bg-color: #E2EBFA;\n",
              "      --hover-fill-color: #174EA6;\n",
              "      --disabled-fill-color: #AAA;\n",
              "      --disabled-bg-color: #DDD;\n",
              "  }\n",
              "\n",
              "  [theme=dark] .colab-df-quickchart {\n",
              "      --bg-color: #3B4455;\n",
              "      --fill-color: #D2E3FC;\n",
              "      --hover-bg-color: #434B5C;\n",
              "      --hover-fill-color: #FFFFFF;\n",
              "      --disabled-bg-color: #3B4455;\n",
              "      --disabled-fill-color: #666;\n",
              "  }\n",
              "\n",
              "  .colab-df-quickchart {\n",
              "    background-color: var(--bg-color);\n",
              "    border: none;\n",
              "    border-radius: 50%;\n",
              "    cursor: pointer;\n",
              "    display: none;\n",
              "    fill: var(--fill-color);\n",
              "    height: 32px;\n",
              "    padding: 0;\n",
              "    width: 32px;\n",
              "  }\n",
              "\n",
              "  .colab-df-quickchart:hover {\n",
              "    background-color: var(--hover-bg-color);\n",
              "    box-shadow: 0 1px 2px rgba(60, 64, 67, 0.3), 0 1px 3px 1px rgba(60, 64, 67, 0.15);\n",
              "    fill: var(--button-hover-fill-color);\n",
              "  }\n",
              "\n",
              "  .colab-df-quickchart-complete:disabled,\n",
              "  .colab-df-quickchart-complete:disabled:hover {\n",
              "    background-color: var(--disabled-bg-color);\n",
              "    fill: var(--disabled-fill-color);\n",
              "    box-shadow: none;\n",
              "  }\n",
              "\n",
              "  .colab-df-spinner {\n",
              "    border: 2px solid var(--fill-color);\n",
              "    border-color: transparent;\n",
              "    border-bottom-color: var(--fill-color);\n",
              "    animation:\n",
              "      spin 1s steps(1) infinite;\n",
              "  }\n",
              "\n",
              "  @keyframes spin {\n",
              "    0% {\n",
              "      border-color: transparent;\n",
              "      border-bottom-color: var(--fill-color);\n",
              "      border-left-color: var(--fill-color);\n",
              "    }\n",
              "    20% {\n",
              "      border-color: transparent;\n",
              "      border-left-color: var(--fill-color);\n",
              "      border-top-color: var(--fill-color);\n",
              "    }\n",
              "    30% {\n",
              "      border-color: transparent;\n",
              "      border-left-color: var(--fill-color);\n",
              "      border-top-color: var(--fill-color);\n",
              "      border-right-color: var(--fill-color);\n",
              "    }\n",
              "    40% {\n",
              "      border-color: transparent;\n",
              "      border-right-color: var(--fill-color);\n",
              "      border-top-color: var(--fill-color);\n",
              "    }\n",
              "    60% {\n",
              "      border-color: transparent;\n",
              "      border-right-color: var(--fill-color);\n",
              "    }\n",
              "    80% {\n",
              "      border-color: transparent;\n",
              "      border-right-color: var(--fill-color);\n",
              "      border-bottom-color: var(--fill-color);\n",
              "    }\n",
              "    90% {\n",
              "      border-color: transparent;\n",
              "      border-bottom-color: var(--fill-color);\n",
              "    }\n",
              "  }\n",
              "</style>\n",
              "\n",
              "  <script>\n",
              "    async function quickchart(key) {\n",
              "      const quickchartButtonEl =\n",
              "        document.querySelector('#' + key + ' button');\n",
              "      quickchartButtonEl.disabled = true;  // To prevent multiple clicks.\n",
              "      quickchartButtonEl.classList.add('colab-df-spinner');\n",
              "      try {\n",
              "        const charts = await google.colab.kernel.invokeFunction(\n",
              "            'suggestCharts', [key], {});\n",
              "      } catch (error) {\n",
              "        console.error('Error during call to suggestCharts:', error);\n",
              "      }\n",
              "      quickchartButtonEl.classList.remove('colab-df-spinner');\n",
              "      quickchartButtonEl.classList.add('colab-df-quickchart-complete');\n",
              "    }\n",
              "    (() => {\n",
              "      let quickchartButtonEl =\n",
              "        document.querySelector('#df-c008675b-ce51-42e8-b708-44634ecda97a button');\n",
              "      quickchartButtonEl.style.display =\n",
              "        google.colab.kernel.accessAllowed ? 'block' : 'none';\n",
              "    })();\n",
              "  </script>\n",
              "</div>\n",
              "    </div>\n",
              "  </div>\n"
            ]
          },
          "metadata": {},
          "execution_count": 6
        }
      ],
      "source": [
        "df = pd.DataFrame(dataframe_rows)\n",
        "df.head(20)"
      ]
    },
    {
      "cell_type": "markdown",
      "metadata": {
        "id": "56t_8upaerJ-"
      },
      "source": [
        "# [Task 2 - 0.5 points] Text encoding\n",
        "\n",
        "To train a neural POS tagger, you first need to encode text into numerical format."
      ]
    },
    {
      "cell_type": "markdown",
      "metadata": {
        "id": "_IpIpTPoerJ_"
      },
      "source": [
        "### Instructions\n",
        "\n",
        "* Embed words using **GloVe embeddings**.\n",
        "* You are **free** to pick any embedding dimension.\n",
        "* [Optional] You are free to experiment with text pre-processing: **make sure you do not delete any token!**"
      ]
    },
    {
      "cell_type": "code",
      "execution_count": 7,
      "metadata": {
        "execution": {
          "iopub.execute_input": "2023-11-20T17:28:34.016375Z",
          "iopub.status.busy": "2023-11-20T17:28:34.016029Z",
          "iopub.status.idle": "2023-11-20T17:28:34.021311Z",
          "shell.execute_reply": "2023-11-20T17:28:34.020216Z",
          "shell.execute_reply.started": "2023-11-20T17:28:34.016345Z"
        },
        "id": "hpVTQ-o6erJ_",
        "trusted": true
      },
      "outputs": [],
      "source": [
        "# typing\n",
        "from typing import List, Callable, Dict"
      ]
    },
    {
      "cell_type": "markdown",
      "metadata": {
        "id": "2sPpHwhHerJ_"
      },
      "source": [
        "#### Text pre-processing\n",
        "In the code below we pre-processed the df dataframe in order to reduce the number of different words. Our text pre-processing consist just in lowering the text of words. <br>\n",
        "**NB: should we add somenthing to the pre processing?**"
      ]
    },
    {
      "cell_type": "code",
      "execution_count": 8,
      "metadata": {
        "execution": {
          "iopub.execute_input": "2023-11-20T17:28:34.023641Z",
          "iopub.status.busy": "2023-11-20T17:28:34.023094Z",
          "iopub.status.idle": "2023-11-20T17:28:35.756398Z",
          "shell.execute_reply": "2023-11-20T17:28:35.755525Z",
          "shell.execute_reply.started": "2023-11-20T17:28:34.023553Z"
        },
        "id": "_BBGJLkeerJ_",
        "trusted": true
      },
      "outputs": [],
      "source": [
        "import re\n",
        "from functools import reduce\n",
        "import nltk\n",
        "from nltk.corpus import stopwords"
      ]
    },
    {
      "cell_type": "code",
      "execution_count": 9,
      "metadata": {
        "execution": {
          "iopub.execute_input": "2023-11-20T17:28:35.757918Z",
          "iopub.status.busy": "2023-11-20T17:28:35.757604Z",
          "iopub.status.idle": "2023-11-20T17:28:35.762885Z",
          "shell.execute_reply": "2023-11-20T17:28:35.761863Z",
          "shell.execute_reply.started": "2023-11-20T17:28:35.757892Z"
        },
        "id": "59cctQmxerKA",
        "trusted": true
      },
      "outputs": [],
      "source": [
        "def lower(text: str) -> str:\n",
        "    \"\"\"\n",
        "    Transforms given text to lower case.\n",
        "    \"\"\"\n",
        "    return text.lower()"
      ]
    },
    {
      "cell_type": "code",
      "execution_count": 10,
      "metadata": {
        "execution": {
          "iopub.execute_input": "2023-11-20T17:28:35.764417Z",
          "iopub.status.busy": "2023-11-20T17:28:35.764075Z",
          "iopub.status.idle": "2023-11-20T17:28:35.775830Z",
          "shell.execute_reply": "2023-11-20T17:28:35.774984Z",
          "shell.execute_reply.started": "2023-11-20T17:28:35.764366Z"
        },
        "id": "jSzHoq7BerKA",
        "trusted": true
      },
      "outputs": [],
      "source": [
        "PREPROCESSING_PIPELINE = [\n",
        "                          lower\n",
        "                          ]\n",
        "\n",
        "def text_prepare(text: str,\n",
        "                 filter_methods: List[Callable[[str], str]] = None) -> str:\n",
        "    \"\"\"\n",
        "    Applies a list of pre-processing functions in sequence (reduce).\n",
        "    Note that the order is important here!\n",
        "    \"\"\"\n",
        "    filter_methods = filter_methods if filter_methods is not None else PREPROCESSING_PIPELINE\n",
        "    return reduce(lambda txt, f: f(txt), filter_methods, text)"
      ]
    },
    {
      "cell_type": "code",
      "execution_count": 11,
      "metadata": {
        "colab": {
          "base_uri": "https://localhost:8080/"
        },
        "execution": {
          "iopub.execute_input": "2023-11-20T17:28:35.777282Z",
          "iopub.status.busy": "2023-11-20T17:28:35.776990Z",
          "iopub.status.idle": "2023-11-20T17:28:35.903065Z",
          "shell.execute_reply": "2023-11-20T17:28:35.902113Z",
          "shell.execute_reply.started": "2023-11-20T17:28:35.777257Z"
        },
        "id": "MQi5fld5erKA",
        "outputId": "b6731842-43b2-425a-8724-1a0c9411aa38",
        "trusted": true
      },
      "outputs": [
        {
          "output_type": "stream",
          "name": "stdout",
          "text": [
            "Pre-processing text...\n",
            "\n",
            "[Debug] Before:\n",
            "The\n",
            "\n",
            "[Debug] After:\n",
            "the\n",
            "\n",
            "Pre-processing completed!\n"
          ]
        }
      ],
      "source": [
        "print('Pre-processing text...')\n",
        "\n",
        "print()\n",
        "print(f'[Debug] Before:\\n{df.text.values[0]}')\n",
        "print()\n",
        "\n",
        "# Replace each sentence with its pre-processed version\n",
        "df['text'] = df['text'].apply(lambda txt: text_prepare(txt))\n",
        "\n",
        "print(f'[Debug] After:\\n{df.text.values[0]}')\n",
        "print()\n",
        "\n",
        "print(\"Pre-processing completed!\")"
      ]
    },
    {
      "cell_type": "markdown",
      "metadata": {
        "id": "h47lVPfierKA"
      },
      "source": [
        "#### Vocabulary creation for training set\n",
        "We define a vocabulary for the training set assigning to each word a random index, the building_vocabulary function returns a list containing:<br>\n",
        "- word vocabulary: vocabulary index to word\n",
        "- inverse word vocabulary: word to vocabulary index\n",
        "- word listing: set of unique terms that build up the vocabulary\n"
      ]
    },
    {
      "cell_type": "code",
      "execution_count": 12,
      "metadata": {
        "execution": {
          "iopub.execute_input": "2023-11-20T17:28:35.905088Z",
          "iopub.status.busy": "2023-11-20T17:28:35.904709Z",
          "iopub.status.idle": "2023-11-20T17:28:35.978078Z",
          "shell.execute_reply": "2023-11-20T17:28:35.977203Z",
          "shell.execute_reply.started": "2023-11-20T17:28:35.905052Z"
        },
        "id": "1sR32eMrerKB",
        "trusted": true
      },
      "outputs": [],
      "source": [
        "df_train = df[df['split']=='train']\n",
        "df_val = df[df['split']=='validation']\n",
        "df_test = df[df['split']=='test']"
      ]
    },
    {
      "cell_type": "markdown",
      "metadata": {
        "id": "Jc3eQ6AderKB"
      },
      "source": [
        "#### GloVe embeddings (50)\n",
        "Download GloVe 50 embedding where most of the words are alredy embedded in an embedding model that associate each word to a vector of dimension 50."
      ]
    },
    {
      "cell_type": "code",
      "execution_count": 13,
      "metadata": {
        "execution": {
          "iopub.execute_input": "2023-11-20T17:28:35.980050Z",
          "iopub.status.busy": "2023-11-20T17:28:35.979409Z",
          "iopub.status.idle": "2023-11-20T17:28:35.984430Z",
          "shell.execute_reply": "2023-11-20T17:28:35.983403Z",
          "shell.execute_reply.started": "2023-11-20T17:28:35.980013Z"
        },
        "id": "nIW7yyFgerKB",
        "trusted": true
      },
      "outputs": [],
      "source": [
        "# !pip install gensim"
      ]
    },
    {
      "cell_type": "code",
      "execution_count": 14,
      "metadata": {
        "execution": {
          "iopub.execute_input": "2023-11-20T17:28:35.988166Z",
          "iopub.status.busy": "2023-11-20T17:28:35.987892Z",
          "iopub.status.idle": "2023-11-20T17:28:44.567366Z",
          "shell.execute_reply": "2023-11-20T17:28:44.566483Z",
          "shell.execute_reply.started": "2023-11-20T17:28:35.988142Z"
        },
        "id": "stvoRolverKB",
        "trusted": true
      },
      "outputs": [],
      "source": [
        "import gensim\n",
        "import gensim.downloader as gloader\n",
        "\n",
        "def load_embedding_model(model_type: str,\n",
        "                         embedding_dimension: int = 50) -> gensim.models.keyedvectors.KeyedVectors:\n",
        "    \"\"\"\n",
        "    Loads a pre-trained word embedding model via gensim library.\n",
        "\n",
        "    :param model_type: name of the word embedding model to load.\n",
        "    :param embedding_dimension: size of the embedding space to consider\n",
        "\n",
        "    :return\n",
        "        - pre-trained word embedding model (gensim KeyedVectors object)\n",
        "    \"\"\"\n",
        "    download_path = \"\"\n",
        "\n",
        "    if model_type.strip().lower() == 'glove':\n",
        "        download_path = \"glove-wiki-gigaword-{}\".format(embedding_dimension)\n",
        "    else:\n",
        "        raise AttributeError(\"Unsupported embedding model type! Available one: glove\")\n",
        "\n",
        "    try:\n",
        "        emb_model = gloader.load(download_path)\n",
        "    except ValueError as e:\n",
        "        print(\"Invalid embedding model name! Check the embedding dimension:\")\n",
        "        print(\"Glove: 50, 100, 200, 300\")\n",
        "        raise e\n",
        "\n",
        "    return emb_model"
      ]
    },
    {
      "cell_type": "code",
      "execution_count": 15,
      "metadata": {
        "execution": {
          "iopub.execute_input": "2023-11-20T17:28:44.568939Z",
          "iopub.status.busy": "2023-11-20T17:28:44.568460Z",
          "iopub.status.idle": "2023-11-20T17:29:17.221564Z",
          "shell.execute_reply": "2023-11-20T17:29:17.220762Z",
          "shell.execute_reply.started": "2023-11-20T17:28:44.568913Z"
        },
        "id": "HRmCZlDYerKC",
        "trusted": true,
        "colab": {
          "base_uri": "https://localhost:8080/"
        },
        "outputId": "bea8c2fa-e0c2-41ea-c284-222c6eea3890"
      },
      "outputs": [
        {
          "output_type": "stream",
          "name": "stdout",
          "text": [
            "[==================================================] 100.0% 66.0/66.0MB downloaded\n"
          ]
        }
      ],
      "source": [
        "embedding_dim = 50\n",
        "\n",
        "embedding_model = load_embedding_model(model_type=\"glove\",\n",
        "                                       embedding_dimension=embedding_dim)"
      ]
    },
    {
      "cell_type": "code",
      "execution_count": 16,
      "metadata": {
        "colab": {
          "base_uri": "https://localhost:8080/"
        },
        "execution": {
          "iopub.execute_input": "2023-11-20T17:29:17.223031Z",
          "iopub.status.busy": "2023-11-20T17:29:17.222695Z",
          "iopub.status.idle": "2023-11-20T17:29:17.985318Z",
          "shell.execute_reply": "2023-11-20T17:29:17.984381Z",
          "shell.execute_reply.started": "2023-11-20T17:29:17.223003Z"
        },
        "id": "znNezbjgerKC",
        "outputId": "d3785196-6474-4a82-ad69-dad68617b1d7",
        "trusted": true
      },
      "outputs": [
        {
          "output_type": "stream",
          "name": "stdout",
          "text": [
            "Embedding matrix shape: (400001, 50)\n"
          ]
        }
      ],
      "source": [
        "vocab = {} # word to idx\n",
        "embedding_matrix_glove = np.zeros((400001, embedding_dim))\n",
        "\n",
        "for i in range(0, 400000):\n",
        "    vocab[embedding_model.index_to_key[i]] = i+1\n",
        "    embedding_matrix_glove[i+1] = embedding_model.vectors[i]\n",
        "\n",
        "print(f'Embedding matrix shape: {embedding_matrix_glove.shape}')"
      ]
    },
    {
      "cell_type": "code",
      "execution_count": 17,
      "metadata": {
        "execution": {
          "iopub.execute_input": "2023-11-20T17:29:17.986972Z",
          "iopub.status.busy": "2023-11-20T17:29:17.986587Z",
          "iopub.status.idle": "2023-11-20T17:29:17.992578Z",
          "shell.execute_reply": "2023-11-20T17:29:17.991698Z",
          "shell.execute_reply.started": "2023-11-20T17:29:17.986945Z"
        },
        "id": "D67KXftCerKC",
        "trusted": true
      },
      "outputs": [],
      "source": [
        "def check_OOV_terms(embedding_model: gensim.models.keyedvectors.KeyedVectors,\n",
        "                    word_listing: List[str]):\n",
        "    \"\"\"\n",
        "    Checks differences between pre-trained embedding model vocabulary\n",
        "    and dataset specific vocabulary in order to highlight out-of-vocabulary terms.\n",
        "\n",
        "    :param embedding_model: pre-trained word embedding model (gensim wrapper)\n",
        "    :param word_listing: dataset specific vocabulary (list)\n",
        "\n",
        "    :return\n",
        "        - list of OOV terms\n",
        "    \"\"\"\n",
        "    embedding_vocabulary = set(embedding_model.key_to_index.keys())\n",
        "    oov = set(word_listing).difference(embedding_vocabulary)\n",
        "    return list(oov)"
      ]
    },
    {
      "cell_type": "code",
      "execution_count": 18,
      "metadata": {
        "colab": {
          "base_uri": "https://localhost:8080/"
        },
        "execution": {
          "iopub.execute_input": "2023-11-20T17:29:17.993859Z",
          "iopub.status.busy": "2023-11-20T17:29:17.993564Z",
          "iopub.status.idle": "2023-11-20T17:29:18.082231Z",
          "shell.execute_reply": "2023-11-20T17:29:18.081280Z",
          "shell.execute_reply.started": "2023-11-20T17:29:17.993835Z"
        },
        "id": "choHIOBUerKD",
        "outputId": "2560fb3a-d310-43c5-b47f-5ebd1844777c",
        "trusted": true
      },
      "outputs": [
        {
          "output_type": "stream",
          "name": "stdout",
          "text": [
            "Total OOV terms: 359 (4.85%)\n"
          ]
        }
      ],
      "source": [
        "word_listing = set(df_train['text'])\n",
        "oov_terms = check_OOV_terms(embedding_model, word_listing)\n",
        "oov_percentage = float(len(oov_terms)) * 100 / len(word_listing)\n",
        "print(f\"Total OOV terms: {len(oov_terms)} ({oov_percentage:.2f}%)\")"
      ]
    },
    {
      "cell_type": "markdown",
      "metadata": {
        "id": "J1zIe3RWerKD"
      },
      "source": [
        "Here we add the OOV in the train set to the vocabulary and the embedded matrix </br>\n",
        "*NB: maybe is better to define the OOV as the mean of all the other word, link for report (https://stackoverflow.com/questions/49239941/what-is-unk-in-the-pretrained-glove-vector-files-e-g-glove-6b-50d-txt)* <br>\n",
        "Our embedding matrix has the following columns:\n",
        "- column 0 is all zeros, represents the embedding vector for padding\n",
        "- columns 1 to 400001 are the embedding vectors for the words in GloVe\n",
        "- columns 400002 to 400360 are the embedding vectors for the words OOV in the training set (random vector)\n",
        "- column 400361 is the embedding vector for the words OOV in the final vocabulary"
      ]
    },
    {
      "cell_type": "code",
      "execution_count": 19,
      "metadata": {
        "colab": {
          "base_uri": "https://localhost:8080/"
        },
        "execution": {
          "iopub.execute_input": "2023-11-20T17:29:18.083837Z",
          "iopub.status.busy": "2023-11-20T17:29:18.083544Z",
          "iopub.status.idle": "2023-11-20T17:29:38.116881Z",
          "shell.execute_reply": "2023-11-20T17:29:38.115940Z",
          "shell.execute_reply.started": "2023-11-20T17:29:18.083804Z"
        },
        "id": "3YIEwC86erKD",
        "outputId": "f86f65aa-21d3-4912-eb1c-c679d2afa0a3",
        "trusted": true
      },
      "outputs": [
        {
          "output_type": "stream",
          "name": "stdout",
          "text": [
            "400361\n",
            "New embedding matrix size: (400361, 50)\n"
          ]
        }
      ],
      "source": [
        "for word in oov_terms:\n",
        "    vocab[word] = 400002 + oov_terms.index(word)\n",
        "    embedding_matrix_glove = np.append(embedding_matrix_glove, np.random.uniform(-0.25, 0.25, 50).reshape(1, 50), axis=0)\n",
        "\n",
        "vocab['[UNK]'] = len(vocab) + 1\n",
        "average_oov = np.mean(embedding_matrix_glove, axis=0)\n",
        "embedding_matrix = np.append(embedding_matrix_glove, average_oov.reshape(1, 50), axis=0)\n",
        "\n",
        "vocab['[PAD]'] = 0\n",
        "\n",
        "print(len(vocab))\n",
        "print(f\"New embedding matrix size: {embedding_matrix.shape}\")"
      ]
    },
    {
      "cell_type": "markdown",
      "metadata": {
        "id": "t_5YoZOserKE"
      },
      "source": [
        "#### Embedding for training set\n",
        "We create the embedding matrix for all the training set:\n",
        "- using GloVe embeddings for alredy known words\n",
        "- assigning to each OOV word a random value.\n",
        "\n",
        "**NB: maybe instead of random we can define OOV with the mean of its neighbour word embeddings (tutorial 2)** <br>\n",
        "**NB: we can even add all embedding in GloVe to the embedding matrix, even if they are not in train set**"
      ]
    },
    {
      "cell_type": "markdown",
      "metadata": {
        "id": "jDJl1QCmerKE"
      },
      "source": [
        "# [Task 3 - 1.0 points] Model definition\n",
        "\n",
        "You are now tasked to define your neural POS tagger."
      ]
    },
    {
      "cell_type": "markdown",
      "metadata": {
        "id": "Zx-atMXterKE"
      },
      "source": [
        "### Instructions\n",
        "\n",
        "* **Baseline**: implement a Bidirectional LSTM with a Dense layer on top.\n",
        "* You are **free** to experiment with hyper-parameters to define the baseline model.\n",
        "\n",
        "* **Model 1**: add an additional LSTM layer to the Baseline model.\n",
        "* **Model 2**: add an additional Dense layer to the Baseline model.\n",
        "\n",
        "* **Do not mix Model 1 and Model 2**. Each model has its own instructions.\n",
        "\n",
        "**Note**: if a document contains many tokens, you are **free** to split them into chunks or sentences to define your mini-batches."
      ]
    },
    {
      "cell_type": "code",
      "execution_count": 20,
      "metadata": {
        "execution": {
          "iopub.execute_input": "2023-11-20T17:33:55.859861Z",
          "iopub.status.busy": "2023-11-20T17:33:55.858959Z",
          "iopub.status.idle": "2023-11-20T17:33:55.874207Z",
          "shell.execute_reply": "2023-11-20T17:33:55.873349Z",
          "shell.execute_reply.started": "2023-11-20T17:33:55.859823Z"
        },
        "id": "-zKpiu-4erKE",
        "trusted": true
      },
      "outputs": [],
      "source": [
        "list_of_pos = list(set(df_train['pos']))\n",
        "\n",
        "def pos_to_int(string):\n",
        "    if string == '[PAD]':\n",
        "        return np.zeros((45,), dtype=int).tolist()\n",
        "    length = len(list_of_pos)\n",
        "    for i in range(length):\n",
        "        if list_of_pos[i] == string:\n",
        "            return [1 if j == i else 0 for j in range(length)]\n",
        "\n",
        "def int_to_pos(phrase_hot_encodings):\n",
        "    return [list_of_pos[np.argmax(word)] for word in phrase_hot_encodings]"
      ]
    },
    {
      "cell_type": "markdown",
      "metadata": {
        "id": "4pc8WXOoerKS"
      },
      "source": [
        "#### Baseline\n",
        "**NB: reference slides 08 pag 38** <br>\n",
        "https://analyticsindiamag.com/complete-guide-to-bidirectional-lstm-with-python-codes/"
      ]
    },
    {
      "cell_type": "code",
      "execution_count": 21,
      "metadata": {
        "execution": {
          "iopub.execute_input": "2023-11-20T17:34:18.348890Z",
          "iopub.status.busy": "2023-11-20T17:34:18.348168Z",
          "iopub.status.idle": "2023-11-20T17:34:35.583647Z",
          "shell.execute_reply": "2023-11-20T17:34:35.582521Z",
          "shell.execute_reply.started": "2023-11-20T17:34:18.348854Z"
        },
        "id": "GVhN0_EzerKS",
        "trusted": true
      },
      "outputs": [],
      "source": [
        "# ! pip install tensorflow\n",
        "import tensorflow as tf\n",
        "import tensorflow.keras as keras\n",
        "import tensorflow.keras.layers as layers"
      ]
    },
    {
      "cell_type": "code",
      "execution_count": 22,
      "metadata": {
        "execution": {
          "iopub.execute_input": "2023-11-20T17:36:38.089888Z",
          "iopub.status.busy": "2023-11-20T17:36:38.088830Z",
          "iopub.status.idle": "2023-11-20T17:36:38.094485Z",
          "shell.execute_reply": "2023-11-20T17:36:38.093644Z",
          "shell.execute_reply.started": "2023-11-20T17:36:38.089851Z"
        },
        "id": "WtAw13JjerKT",
        "trusted": true
      },
      "outputs": [],
      "source": [
        "batch_size = 64\n",
        "GloVe_dim = 50 # GloVe embedding\n",
        "units_bi = 64\n",
        "units_bi_2 = 32\n",
        "\n",
        "n_unique_words = len(vocab) # input and output layer\n",
        "outputs_dim = len(list_of_pos)"
      ]
    },
    {
      "cell_type": "code",
      "execution_count": 23,
      "metadata": {
        "colab": {
          "base_uri": "https://localhost:8080/"
        },
        "execution": {
          "iopub.execute_input": "2023-11-20T17:36:46.505878Z",
          "iopub.status.busy": "2023-11-20T17:36:46.505146Z",
          "iopub.status.idle": "2023-11-20T17:36:52.733684Z",
          "shell.execute_reply": "2023-11-20T17:36:52.732727Z",
          "shell.execute_reply.started": "2023-11-20T17:36:46.505845Z"
        },
        "id": "hyw7dSlVerKT",
        "outputId": "46e5c8fa-b98a-4aba-9a24-19d93f5a3faf",
        "trusted": true
      },
      "outputs": [
        {
          "output_type": "stream",
          "name": "stderr",
          "text": [
            "WARNING:tensorflow:Layer lstm will not use cuDNN kernels since it doesn't meet the criteria. It will use a generic GPU kernel as fallback when running on GPU.\n",
            "WARNING:tensorflow:Layer lstm will not use cuDNN kernels since it doesn't meet the criteria. It will use a generic GPU kernel as fallback when running on GPU.\n",
            "WARNING:tensorflow:Layer lstm will not use cuDNN kernels since it doesn't meet the criteria. It will use a generic GPU kernel as fallback when running on GPU.\n"
          ]
        },
        {
          "output_type": "stream",
          "name": "stdout",
          "text": [
            "Model: \"baseline\"\n",
            "_________________________________________________________________\n",
            " Layer (type)                Output Shape              Param #   \n",
            "=================================================================\n",
            " embedding (Embedding)       (None, None, 50)          20018050  \n",
            "                                                                 \n",
            " masking (Masking)           (None, None, 50)          0         \n",
            "                                                                 \n",
            " bidirectional (Bidirection  (None, None, 128)         58880     \n",
            " al)                                                             \n",
            "                                                                 \n",
            " time_distributed (TimeDist  (None, None, 45)          5805      \n",
            " ributed)                                                        \n",
            "                                                                 \n",
            "=================================================================\n",
            "Total params: 20082735 (76.61 MB)\n",
            "Trainable params: 64685 (252.68 KB)\n",
            "Non-trainable params: 20018050 (76.36 MB)\n",
            "_________________________________________________________________\n"
          ]
        }
      ],
      "source": [
        "baseline = tf.keras.Sequential(name='baseline')\n",
        "\n",
        "# baseline.add(layers.Embedding(n_unique_words, GloVe_dim, embeddings_initializer=tf.keras.initializers.Constant(embedding_matrix), mask_zero=True, trainable=False))\n",
        "baseline.add(layers.Embedding(n_unique_words, GloVe_dim, weights=[embedding_matrix], mask_zero=True, trainable=False))\n",
        "baseline.add(layers.Masking(mask_value=0))\n",
        "baseline.add(layers.Bidirectional(layers.LSTM(units_bi, activation='relu', return_sequences=True)))\n",
        "baseline.add(layers.TimeDistributed(layers.Dense(outputs_dim, activation='softmax')))\n",
        "\n",
        "baseline.summary()"
      ]
    },
    {
      "cell_type": "markdown",
      "metadata": {
        "id": "Hp2BrTbderKT"
      },
      "source": [
        "#### Model 1"
      ]
    },
    {
      "cell_type": "code",
      "execution_count": 24,
      "metadata": {
        "colab": {
          "base_uri": "https://localhost:8080/"
        },
        "execution": {
          "iopub.execute_input": "2023-11-20T17:37:03.349784Z",
          "iopub.status.busy": "2023-11-20T17:37:03.349398Z",
          "iopub.status.idle": "2023-11-20T17:37:03.973614Z",
          "shell.execute_reply": "2023-11-20T17:37:03.972655Z",
          "shell.execute_reply.started": "2023-11-20T17:37:03.349753Z"
        },
        "id": "CBDSLT6MerKT",
        "outputId": "97314816-52db-4051-ef8a-5a309583c38a",
        "trusted": true
      },
      "outputs": [
        {
          "output_type": "stream",
          "name": "stderr",
          "text": [
            "WARNING:tensorflow:Layer lstm_1 will not use cuDNN kernels since it doesn't meet the criteria. It will use a generic GPU kernel as fallback when running on GPU.\n",
            "WARNING:tensorflow:Layer lstm_1 will not use cuDNN kernels since it doesn't meet the criteria. It will use a generic GPU kernel as fallback when running on GPU.\n",
            "WARNING:tensorflow:Layer lstm_1 will not use cuDNN kernels since it doesn't meet the criteria. It will use a generic GPU kernel as fallback when running on GPU.\n",
            "WARNING:tensorflow:Layer lstm_2 will not use cuDNN kernels since it doesn't meet the criteria. It will use a generic GPU kernel as fallback when running on GPU.\n",
            "WARNING:tensorflow:Layer lstm_2 will not use cuDNN kernels since it doesn't meet the criteria. It will use a generic GPU kernel as fallback when running on GPU.\n",
            "WARNING:tensorflow:Layer lstm_2 will not use cuDNN kernels since it doesn't meet the criteria. It will use a generic GPU kernel as fallback when running on GPU.\n"
          ]
        },
        {
          "output_type": "stream",
          "name": "stdout",
          "text": [
            "Model: \"Model_1\"\n",
            "_________________________________________________________________\n",
            " Layer (type)                Output Shape              Param #   \n",
            "=================================================================\n",
            " embedding_1 (Embedding)     (None, None, 50)          20018050  \n",
            "                                                                 \n",
            " masking_1 (Masking)         (None, None, 50)          0         \n",
            "                                                                 \n",
            " bidirectional_1 (Bidirecti  (None, None, 128)         58880     \n",
            " onal)                                                           \n",
            "                                                                 \n",
            " bidirectional_2 (Bidirecti  (None, None, 64)          41216     \n",
            " onal)                                                           \n",
            "                                                                 \n",
            " time_distributed_1 (TimeDi  (None, None, 45)          2925      \n",
            " stributed)                                                      \n",
            "                                                                 \n",
            "=================================================================\n",
            "Total params: 20121071 (76.76 MB)\n",
            "Trainable params: 103021 (402.43 KB)\n",
            "Non-trainable params: 20018050 (76.36 MB)\n",
            "_________________________________________________________________\n"
          ]
        }
      ],
      "source": [
        "model_1 = tf.keras.Sequential(name='Model_1')\n",
        "\n",
        "# model_1.add(layers.Embedding(n_unique_words, GloVe_dim, embeddings_initializer=tf.keras.initializers.Constant(embedding_matrix), mask_zero=True, trainable=False))\n",
        "model_1.add(layers.Embedding(n_unique_words, GloVe_dim, weights=[embedding_matrix], mask_zero=True, trainable=False))\n",
        "model_1.add(layers.Masking(mask_value=0))\n",
        "model_1.add(layers.Bidirectional(layers.LSTM(units_bi, activation='relu', return_sequences=True)))\n",
        "model_1.add(layers.Bidirectional(layers.LSTM(units_bi_2, activation='relu', return_sequences=True)))\n",
        "model_1.add(layers.TimeDistributed(layers.Dense(outputs_dim, activation='softmax')))\n",
        "\n",
        "model_1.summary()"
      ]
    },
    {
      "cell_type": "markdown",
      "metadata": {
        "id": "5PX07mrgerKU"
      },
      "source": [
        "#### Model 2"
      ]
    },
    {
      "cell_type": "code",
      "execution_count": 25,
      "metadata": {
        "execution": {
          "iopub.execute_input": "2023-11-20T17:38:25.965161Z",
          "iopub.status.busy": "2023-11-20T17:38:25.964404Z",
          "iopub.status.idle": "2023-11-20T17:38:25.969162Z",
          "shell.execute_reply": "2023-11-20T17:38:25.968259Z",
          "shell.execute_reply.started": "2023-11-20T17:38:25.965129Z"
        },
        "id": "z8kOFO33erKU",
        "trusted": true
      },
      "outputs": [],
      "source": [
        "units_dense = 64"
      ]
    },
    {
      "cell_type": "code",
      "execution_count": 26,
      "metadata": {
        "colab": {
          "base_uri": "https://localhost:8080/"
        },
        "execution": {
          "iopub.execute_input": "2023-11-20T17:38:26.347478Z",
          "iopub.status.busy": "2023-11-20T17:38:26.346994Z",
          "iopub.status.idle": "2023-11-20T17:38:26.793587Z",
          "shell.execute_reply": "2023-11-20T17:38:26.792635Z",
          "shell.execute_reply.started": "2023-11-20T17:38:26.347442Z"
        },
        "id": "bVOOuVFOerKU",
        "outputId": "db4bc2cf-4638-4910-f5fc-34ef69066bca",
        "trusted": true
      },
      "outputs": [
        {
          "output_type": "stream",
          "name": "stderr",
          "text": [
            "WARNING:tensorflow:Layer lstm_3 will not use cuDNN kernels since it doesn't meet the criteria. It will use a generic GPU kernel as fallback when running on GPU.\n",
            "WARNING:tensorflow:Layer lstm_3 will not use cuDNN kernels since it doesn't meet the criteria. It will use a generic GPU kernel as fallback when running on GPU.\n",
            "WARNING:tensorflow:Layer lstm_3 will not use cuDNN kernels since it doesn't meet the criteria. It will use a generic GPU kernel as fallback when running on GPU.\n"
          ]
        },
        {
          "output_type": "stream",
          "name": "stdout",
          "text": [
            "Model: \"Model_2\"\n",
            "_________________________________________________________________\n",
            " Layer (type)                Output Shape              Param #   \n",
            "=================================================================\n",
            " embedding_2 (Embedding)     (None, None, 50)          20018050  \n",
            "                                                                 \n",
            " masking_2 (Masking)         (None, None, 50)          0         \n",
            "                                                                 \n",
            " bidirectional_3 (Bidirecti  (None, None, 128)         58880     \n",
            " onal)                                                           \n",
            "                                                                 \n",
            " dense_2 (Dense)             (None, None, 64)          8256      \n",
            "                                                                 \n",
            " time_distributed_2 (TimeDi  (None, None, 45)          2925      \n",
            " stributed)                                                      \n",
            "                                                                 \n",
            "=================================================================\n",
            "Total params: 20088111 (76.63 MB)\n",
            "Trainable params: 70061 (273.68 KB)\n",
            "Non-trainable params: 20018050 (76.36 MB)\n",
            "_________________________________________________________________\n"
          ]
        }
      ],
      "source": [
        "model_2 = tf.keras.Sequential(name='Model_2')\n",
        "\n",
        "# model_2.add(layers.Embedding(n_unique_words, GloVe_dim, embeddings_initializer=tf.keras.initializers.Constant(embedding_matrix), mask_zero=True, trainable=False))\n",
        "model_2.add(layers.Embedding(n_unique_words, GloVe_dim, weights=[embedding_matrix], mask_zero=True, trainable=False))\n",
        "model_2.add(layers.Masking(mask_value=0))\n",
        "model_2.add(layers.Bidirectional(layers.LSTM(units_bi, activation='relu', return_sequences=True)))\n",
        "model_2.add(layers.Dense(units_dense, activation='softmax'))\n",
        "model_2.add(layers.TimeDistributed(layers.Dense(outputs_dim, activation='softmax')))\n",
        "\n",
        "model_2.summary()"
      ]
    },
    {
      "cell_type": "markdown",
      "metadata": {
        "id": "9bUJsobderKV"
      },
      "source": [
        "#### try models\n",
        "\n",
        "https://medium.com/analytics-vidhya/author-multi-class-text-classification-using-bidirectional-lstm-keras-c9a533a1cc4a\n",
        "an example of a bi LSTM implementation with padding <br>"
      ]
    },
    {
      "cell_type": "code",
      "execution_count": 27,
      "metadata": {
        "execution": {
          "iopub.execute_input": "2023-11-20T17:39:52.402377Z",
          "iopub.status.busy": "2023-11-20T17:39:52.401596Z",
          "iopub.status.idle": "2023-11-20T17:39:52.407102Z",
          "shell.execute_reply": "2023-11-20T17:39:52.406241Z",
          "shell.execute_reply.started": "2023-11-20T17:39:52.402342Z"
        },
        "id": "H1-H7HKierKV",
        "trusted": true
      },
      "outputs": [],
      "source": [
        "def assign_idx(word):\n",
        "    try:\n",
        "        idx = vocab[word]\n",
        "    except(KeyError):\n",
        "        idx = vocab['[UNK]']\n",
        "    return idx"
      ]
    },
    {
      "cell_type": "code",
      "execution_count": 28,
      "metadata": {
        "execution": {
          "iopub.execute_input": "2023-11-20T17:39:54.056602Z",
          "iopub.status.busy": "2023-11-20T17:39:54.055647Z",
          "iopub.status.idle": "2023-11-20T17:39:54.060227Z",
          "shell.execute_reply": "2023-11-20T17:39:54.059406Z",
          "shell.execute_reply.started": "2023-11-20T17:39:54.056567Z"
        },
        "id": "Znc_7hdperKV",
        "trusted": true
      },
      "outputs": [],
      "source": [
        "# df_train_reduction = df_train.loc[df_train['num_file'] <= 50]\n",
        "# df_val_reduction = df_val.loc[df_val['num_file'] <= 115]\n",
        "# df_test_reduction = df_test.loc[df_test['num_file'] <= 165]"
      ]
    },
    {
      "cell_type": "code",
      "execution_count": 29,
      "metadata": {
        "execution": {
          "iopub.execute_input": "2023-11-20T18:49:24.639966Z",
          "iopub.status.busy": "2023-11-20T18:49:24.639562Z",
          "iopub.status.idle": "2023-11-20T18:50:13.110727Z",
          "shell.execute_reply": "2023-11-20T18:50:13.109704Z",
          "shell.execute_reply.started": "2023-11-20T18:49:24.639934Z"
        },
        "id": "s7cq2w3werKV",
        "trusted": true
      },
      "outputs": [],
      "source": [
        "x_train = [ [assign_idx(word) for word in df_train[df_train['phrase_id']==nr_phrase]['text']] for nr_phrase in set(df_train['phrase_id']) ]\n",
        "x_val   = [ [assign_idx(word) for word in df_val[df_val['phrase_id']==nr_phrase]['text']] for nr_phrase in set(df_val['phrase_id']) ]\n",
        "x_test   = [ [assign_idx(word) for word in df_test[df_test['phrase_id']==nr_phrase]['text']] for nr_phrase in set(df_test['phrase_id']) ]\n",
        "\n",
        "y_train = [ [pos_to_int(pos) for pos in df_train[df_train['phrase_id']==nr_phrase]['pos']] for nr_phrase in set(df_train['phrase_id']) ]\n",
        "y_val   = [ [pos_to_int(pos) for pos in df_val[df_val['phrase_id']==nr_phrase]['pos']] for nr_phrase in set(df_val['phrase_id']) ]\n",
        "y_test   = [ [pos_to_int(pos) for pos in df_test[df_test['phrase_id']==nr_phrase]['pos']] for nr_phrase in set(df_test['phrase_id']) ]"
      ]
    },
    {
      "cell_type": "code",
      "execution_count": 30,
      "metadata": {
        "colab": {
          "base_uri": "https://localhost:8080/"
        },
        "execution": {
          "iopub.execute_input": "2023-11-20T18:50:13.112888Z",
          "iopub.status.busy": "2023-11-20T18:50:13.112544Z",
          "iopub.status.idle": "2023-11-20T18:50:21.752690Z",
          "shell.execute_reply": "2023-11-20T18:50:21.751864Z",
          "shell.execute_reply.started": "2023-11-20T18:50:13.112859Z"
        },
        "id": "oLAKfqJ0erKW",
        "outputId": "f51f57e0-90e2-413e-dc3f-51c583f95f0f",
        "trusted": true
      },
      "outputs": [
        {
          "output_type": "stream",
          "name": "stdout",
          "text": [
            "The length of all phrases after padding will be  249\n"
          ]
        }
      ],
      "source": [
        "#In order to put the data data in data in the model we need to pad the array representing the words / pos\n",
        "\n",
        "pad = max(max([len(phrase) for phrase in x_train]), max([len(phrase) for phrase in x_val]), max([len(phrase) for phrase in x_test]))\n",
        "print(\"The length of all phrases after padding will be \", pad)\n",
        "\n",
        "x_train_pad = [phrase + np.zeros((pad-len(phrase),), dtype=int).tolist() for phrase in x_train]\n",
        "x_val_pad = [phrase + np.zeros((pad-len(phrase),), dtype=int).tolist() for phrase in x_val]\n",
        "x_test_pad = [phrase + np.zeros((pad-len(phrase),), dtype=int).tolist() for phrase in x_test]\n",
        "\n",
        "y_train_pad = [phrase + np.zeros((pad-len(phrase), 45)).tolist() for phrase in y_train]\n",
        "y_val_pad = [phrase + np.zeros((pad-len(phrase), 45)).tolist() for phrase in y_val]\n",
        "y_test_pad = [phrase + np.zeros((pad-len(phrase), 45)).tolist() for phrase in y_test]"
      ]
    },
    {
      "cell_type": "code",
      "execution_count": 31,
      "metadata": {
        "colab": {
          "base_uri": "https://localhost:8080/"
        },
        "id": "o2A26JuUm8Sz",
        "outputId": "27796579-6770-415e-ac4b-552dceb0256e"
      },
      "outputs": [
        {
          "output_type": "stream",
          "name": "stdout",
          "text": [
            "the government includes money spent on residential renovation ; dodge does n't .\n",
            "['DT', 'NN', 'VBZ', 'NN', 'VBN', 'IN', 'JJ', 'NN', ':', 'NNP', 'VBZ', 'RB', '.']\n"
          ]
        }
      ],
      "source": [
        "reverse_word_index = dict([(value, key) for (key, value) in vocab.items()])\n",
        "def decode_phrase(text):\n",
        "    return ' '.join([reverse_word_index.get(i, '?') for i in text])\n",
        "print(decode_phrase(x_train_pad[0][:len(x_train[0])]))\n",
        "print(int_to_pos(y_train_pad[0][:len(x_train[0])]))"
      ]
    },
    {
      "cell_type": "markdown",
      "metadata": {
        "id": "-cQah6XJerKW"
      },
      "source": [
        "# [Task 4 - 1.0 points] Metrics\n",
        "\n",
        "Before training the models, you are tasked to define the evaluation metrics for comparison."
      ]
    },
    {
      "cell_type": "markdown",
      "metadata": {
        "id": "ELGz0EB5erKW"
      },
      "source": [
        "### Instructions\n",
        "\n",
        "* Evaluate your models using macro F1-score, compute over **all** tokens.\n",
        "* **Concatenate** all tokens in a data split to compute the F1-score. (**Hint**: accumulate FP, TP, FN, TN iteratively)\n",
        "* **Do not consider punctuation and symbol classes** $\\rightarrow$ [What is punctuation?](https://en.wikipedia.org/wiki/English_punctuation)"
      ]
    },
    {
      "cell_type": "markdown",
      "metadata": {
        "id": "1qvrXuZVerKW"
      },
      "source": [
        "**Note**: What about OOV tokens?\n",
        "   * All the tokens in the **training** set that are not in GloVe are **not** considered as OOV\n",
        "   * For the remaining tokens (i.e., OOV in the validation and test sets), you have to assign them a **static** embedding.\n",
        "   * You are **free** to define the static embedding using any strategy (e.g., random, neighbourhood, etc...)"
      ]
    },
    {
      "cell_type": "code",
      "execution_count": 38,
      "metadata": {
        "id": "9rqWJlb_dGxN"
      },
      "outputs": [],
      "source": [
        "from sklearn.metrics import precision_recall_fscore_support, accuracy_score, confusion_matrix\n",
        "import numpy as np\n",
        "from keras.callbacks import Callback\n",
        "\n",
        "ignore_classes = ['[PAD]', '#', '``', '-RRB-', \"''\", '$', 'SYM', ':', '.', ',', '-LRB-']\n",
        "\n",
        "class MetricsCallback(Callback):\n",
        "    def __init__(self, x, y_true, ignore_classes=None):\n",
        "        super().__init__()\n",
        "        self.x = x\n",
        "        self.y_true = y_true\n",
        "        self.ignore_classes = ignore_classes if ignore_classes else []\n",
        "        self.tags = [pos for pos in list_of_pos if pos not in self.ignore_classes]\n",
        "        self.metrics_dict = {'macro_f1': {label: [] for label in self.tags},\n",
        "                             'precision': {label: [] for label in self.tags},\n",
        "                             'recall': {label: [] for label in self.tags},\n",
        "                             'accuracy': []}\n",
        "        self.cm = None\n",
        "\n",
        "    def on_epoch_end(self, epoch, logs=None):\n",
        "        y_pred = self.model.predict(self.x)\n",
        "        y_true_pos = [int_to_pos(true) for true in self.y_true]\n",
        "        y_pred_pos = [int_to_pos(pred) for pred in y_pred]\n",
        "\n",
        "        y_true_pos_flat = [tag for phrase in y_true_pos for tag in phrase]\n",
        "        y_pred_pos_flat = [tag for phrase in y_pred_pos for tag in phrase]\n",
        "\n",
        "        y_true_pos_clean = []\n",
        "        y_pred_pos_clean = []\n",
        "        for i, tag in enumerate(y_true_pos_flat):\n",
        "            if tag not in self.ignore_classes:\n",
        "                y_true_pos_clean.append(tag)\n",
        "                y_pred_pos_clean.append(y_pred_pos_flat[i])\n",
        "\n",
        "        p = np.random.randint(0, len(y_true_pos))\n",
        "        len_of_phrase = np.count_nonzero(self.x[p])\n",
        "        print(f\"Random phrase: {decode_phrase(self.x[p][0:len_of_phrase])}\")\n",
        "        print(f\"True POS: {y_true_pos[p][0:len_of_phrase]}\")\n",
        "        print(f\"Predicted POS: {y_pred_pos[p][0:len_of_phrase]}\")\n",
        "\n",
        "        accuracy = accuracy_score(y_true_pos_clean, y_pred_pos_clean)\n",
        "        self.cm = confusion_matrix(y_true_pos_clean, y_pred_pos_clean, labels=self.tags)\n",
        "        precision, recall, f1 = np.zeros(len(self.tags)), np.zeros(len(self.tags)), np.zeros(len(self.tags))\n",
        "        TP, FP, FN, TN = np.zeros(len(self.tags)), np.zeros(len(self.tags)), np.zeros(len(self.tags)), np.zeros(len(self.tags))\n",
        "\n",
        "        for idx, label in enumerate(self.tags):\n",
        "            TP[idx] = self.cm[idx][idx]\n",
        "            FP[idx] = sum([self.cm[i][idx] for i in range(len(self.tags))]) - TP[idx]\n",
        "            FN[idx] = sum([self.cm[idx][i] for i in range(len(self.tags))]) - TP[idx]\n",
        "            precision[idx] = (TP[idx] / (TP[idx] + FP[idx])) if (TP[idx] + FP[idx]) > 0 else 0\n",
        "            recall[idx] = (TP[idx] / (TP[idx] + FN[idx])) if (TP[idx] + FN[idx]) > 0 else 0\n",
        "            f1[idx] = (2 * precision[idx] * recall[idx] / (precision[idx] + recall[idx])) if (precision[idx] + recall[idx]) > 0 else 0\n",
        "\n",
        "        for idx, label in enumerate(self.tags):\n",
        "            self.metrics_dict['precision'][label].append(precision[idx])\n",
        "            self.metrics_dict['recall'][label].append(recall[idx])\n",
        "            self.metrics_dict['macro_f1'][label].append(f1[idx])\n",
        "        self.metrics_dict['accuracy'].append(accuracy)\n",
        "\n",
        "        precision = np.mean(precision)\n",
        "        recall = np.mean(recall)\n",
        "        f1 = np.mean(f1)\n",
        "        print(f\"Macro F1-Score: {f1:.4f} - Precision: {precision:.4f} - Recall: {recall:.4f} - Accuracy: {accuracy:.4f}\")\n",
        "\n",
        "\n",
        "    def get_metrics_dict(self):\n",
        "        return self.metrics_dict\n",
        "\n",
        "    def get_cm(self):\n",
        "        return self.cm"
      ]
    },
    {
      "cell_type": "markdown",
      "metadata": {
        "id": "FGZS-c3TerKX"
      },
      "source": [
        "# [Task 5 - 1.0 points] Training and Evaluation\n",
        "\n",
        "You are now tasked to train and evaluate the Baseline, Model 1, and Model 2."
      ]
    },
    {
      "cell_type": "markdown",
      "metadata": {
        "id": "DS4QezxderKX"
      },
      "source": [
        "### Instructions\n",
        "\n",
        "* Train **all** models on the train set.\n",
        "* Evaluate **all** models on the validation set.\n",
        "* Compute metrics on the validation set.\n",
        "* Pick **at least** three seeds for robust estimation.\n",
        "* Pick the **best** performing model according to the observed validation set performance."
      ]
    },
    {
      "cell_type": "markdown",
      "metadata": {
        "id": "g0WUHlsherKX"
      },
      "source": [
        "**NB: todo fine tuning on embedding layer https://stackoverflow.com/questions/40345607/how-does-fine-tuning-word-embeddings-work**"
      ]
    },
    {
      "cell_type": "code",
      "execution_count": 39,
      "metadata": {
        "id": "HF42CZqRh6Ij"
      },
      "outputs": [],
      "source": [
        "train = True\n",
        "\n",
        "early_stopping = keras.callbacks.EarlyStopping(monitor=\"val_loss\", patience=10)\n",
        "reduce_lr = keras.callbacks.ReduceLROnPlateau(monitor=\"val_loss\", patience=5, factor=0.1, min_lr=0.001)\n",
        "lr_scheduler = keras.callbacks.LearningRateScheduler(lambda epoch: 0.5 ** (epoch // 20))\n",
        "metrics_callback = MetricsCallback(x_val_pad, y_val_pad, ignore_classes)"
      ]
    },
    {
      "cell_type": "code",
      "execution_count": 40,
      "metadata": {
        "colab": {
          "base_uri": "https://localhost:8080/"
        },
        "execution": {
          "iopub.execute_input": "2023-11-20T18:55:46.439836Z",
          "iopub.status.busy": "2023-11-20T18:55:46.438962Z",
          "iopub.status.idle": "2023-11-20T19:13:32.641236Z",
          "shell.execute_reply": "2023-11-20T19:13:32.640409Z",
          "shell.execute_reply.started": "2023-11-20T18:55:46.439797Z"
        },
        "id": "zjgqXJnoBP36",
        "outputId": "d3885598-c845-482d-e7b4-e4a88307ab89",
        "trusted": true
      },
      "outputs": [
        {
          "output_type": "stream",
          "name": "stdout",
          "text": [
            "Epoch 1/15\n",
            "41/41 [==============================] - 4s 89ms/step\n",
            "Random phrase: there is something inherently suspect about congress 's prohibiting the executive from even studying whether public funds are being wasted in some favored program or other .\n",
            "True POS: ['EX', 'VBZ', 'NN', 'RB', 'JJ', 'IN', 'NNP', 'POS', 'VBG', 'DT', 'NN', 'IN', 'RB', 'VBG', 'IN', 'JJ', 'NNS', 'VBP', 'VBG', 'VBN', 'IN', 'DT', 'VBN', 'NN', 'CC', 'JJ', '.']\n",
            "Predicted POS: ['PRP', 'VBZ', 'RB', 'JJ', 'VBN', 'IN', 'NNP', 'POS', 'NNS', 'DT', 'NN', 'IN', 'RB', 'NNS', 'VBP', 'JJ', 'NNS', 'VBP', 'RB', 'VBN', 'IN', 'JJ', 'JJ', 'NN', 'NN', 'NNS', '.']\n",
            "Macro F1-Score: 0.3703 - Precision: 0.4323 - Recall: 0.3567 - Accuracy: 0.6567\n",
            "31/31 [==============================] - 112s 4s/step - loss: 1.0932 - accuracy: 0.6960 - val_loss: 1.0873 - val_accuracy: 0.6899 - lr: 1.0000\n",
            "Epoch 2/15\n",
            "41/41 [==============================] - 4s 94ms/step\n",
            "Random phrase: he is an avid fan of a proposition on next week 's ballot to help build a replacement for candlestick park .\n",
            "True POS: ['PRP', 'VBZ', 'DT', 'JJ', 'NN', 'IN', 'DT', 'NN', 'IN', 'JJ', 'NN', 'POS', 'NN', 'TO', 'VB', 'VB', 'DT', 'NN', 'IN', 'NNP', 'NNP', '.']\n",
            "Predicted POS: ['PRP', 'VBZ', 'DT', 'JJ', 'NN', 'IN', 'DT', 'NN', 'IN', 'VB', 'NN', 'POS', 'NN', 'TO', 'VB', 'VB', 'DT', 'NN', 'IN', 'NNP', 'NNP', '.']\n",
            "Macro F1-Score: 0.3966 - Precision: 0.5048 - Recall: 0.3723 - Accuracy: 0.6741\n",
            "31/31 [==============================] - 46s 1s/step - loss: 1.0036 - accuracy: 0.7178 - val_loss: 1.0274 - val_accuracy: 0.7063 - lr: 1.0000\n",
            "Epoch 3/15\n",
            "41/41 [==============================] - 4s 86ms/step\n",
            "Random phrase: the truck maker said the significant drop in net income will result in lower earnings for the fiscal year .\n",
            "True POS: ['DT', 'NN', 'NN', 'VBD', 'DT', 'JJ', 'NN', 'IN', 'JJ', 'NN', 'MD', 'VB', 'IN', 'JJR', 'NNS', 'IN', 'DT', 'JJ', 'NN', '.']\n",
            "Predicted POS: ['DT', 'NN', 'NN', 'VBD', 'DT', 'JJ', 'NN', 'IN', 'JJ', 'NN', 'MD', 'VB', 'IN', 'JJ', 'NNS', 'IN', 'DT', 'NN', 'NN', '.']\n",
            "Macro F1-Score: 0.4131 - Precision: 0.4755 - Recall: 0.4005 - Accuracy: 0.6866\n",
            "31/31 [==============================] - 45s 1s/step - loss: 0.9215 - accuracy: 0.7387 - val_loss: 0.9876 - val_accuracy: 0.7180 - lr: 1.0000\n",
            "Epoch 4/15\n",
            "41/41 [==============================] - 8s 189ms/step\n",
            "Random phrase: a spokesman for visa international 's u.s. subsidiary says his company is using promotions to increase use of its cards , but does n't have plans for a tie-in similar to the american [UNK] link .\n",
            "True POS: ['DT', 'NN', 'IN', 'NNP', 'NNP', 'POS', 'NNP', 'NN', 'VBZ', 'PRP$', 'NN', 'VBZ', 'VBG', 'NNS', 'TO', 'VB', 'NN', 'IN', 'PRP$', 'NNS', ',', 'CC', 'VBZ', 'RB', 'VB', 'NNS', 'IN', 'DT', 'NN', 'JJ', 'TO', 'DT', 'NNP', 'NNP', 'NN', '.']\n",
            "Predicted POS: ['DT', 'VBD', 'IN', 'NN', 'NN', 'POS', 'NNP', 'NNP', 'VBZ', 'PRP$', 'NN', 'VBZ', 'JJ', 'NNS', 'TO', 'VB', 'NN', 'IN', 'JJ', 'NNS', ',', 'PRP', 'VBZ', 'PRP', 'VB', 'VBN', 'IN', 'DT', 'JJ', 'NN', 'TO', 'DT', 'JJ', 'NNP', 'NN', '.']\n",
            "Macro F1-Score: 0.4460 - Precision: 0.5007 - Recall: 0.4350 - Accuracy: 0.7129\n",
            "31/31 [==============================] - 54s 2s/step - loss: 0.8673 - accuracy: 0.7542 - val_loss: 0.9021 - val_accuracy: 0.7415 - lr: 1.0000\n",
            "Epoch 5/15\n",
            "41/41 [==============================] - 5s 129ms/step\n",
            "Random phrase: we -lrb- i assume you 're in this with me at this point -rrb- need to get three words -- `` for examination only '' -- eliminated from the law .\n",
            "True POS: ['PRP', '-LRB-', 'PRP', 'VBP', 'PRP', 'VBP', 'IN', 'DT', 'IN', 'PRP', 'IN', 'DT', 'NN', '-RRB-', 'VBP', 'TO', 'VB', 'CD', 'NNS', ':', '``', 'IN', 'NN', 'RB', \"''\", ':', 'VBN', 'IN', 'DT', 'NN', '.']\n",
            "Predicted POS: ['PRP', 'NNS', 'PRP', 'NN', 'VBP', 'VB', 'IN', 'NN', 'IN', \"''\", 'IN', 'DT', 'JJ', 'NNS', 'NNS', 'TO', 'VB', 'CD', 'NNS', ':', '``', 'IN', 'JJ', 'IN', \"''\", ':', 'NNS', 'IN', 'DT', 'NN', '.']\n",
            "Macro F1-Score: 0.4577 - Precision: 0.5159 - Recall: 0.4458 - Accuracy: 0.7165\n",
            "31/31 [==============================] - 63s 2s/step - loss: 0.8211 - accuracy: 0.7635 - val_loss: 0.8771 - val_accuracy: 0.7446 - lr: 1.0000\n",
            "Epoch 6/15\n",
            "41/41 [==============================] - 4s 93ms/step\n",
            "Random phrase: today , about $ 200 billion , or 20 % of all [UNK] stock investments , is held by index funds .\n",
            "True POS: ['NN', ',', 'IN', '$', 'CD', 'CD', ',', 'CC', 'CD', 'NN', 'IN', 'DT', 'JJ', 'NN', 'NNS', ',', 'VBZ', 'VBN', 'IN', 'NN', 'NNS', '.']\n",
            "Predicted POS: ['RB', ',', 'IN', '$', 'CD', 'CD', ',', 'CC', 'CD', 'NN', 'IN', 'JJ', 'JJ', 'NN', 'NNS', ',', 'VBZ', 'VBN', 'IN', 'NN', 'NNS', '.']\n",
            "Macro F1-Score: 0.4717 - Precision: 0.5217 - Recall: 0.4631 - Accuracy: 0.7329\n",
            "31/31 [==============================] - 54s 2s/step - loss: 0.7845 - accuracy: 0.7724 - val_loss: 0.8253 - val_accuracy: 0.7595 - lr: 1.0000\n",
            "Epoch 7/15\n",
            "41/41 [==============================] - 6s 150ms/step\n",
            "Random phrase: garret boone , who teaches art at earlham college , calls the new structure `` just an ugly bridge '' and one that blocks the view of a new park below .\n",
            "True POS: ['NNP', 'NNP', ',', 'WP', 'VBZ', 'NN', 'IN', 'NNP', 'NNP', ',', 'VBZ', 'DT', 'JJ', 'NN', '``', 'RB', 'DT', 'JJ', 'NN', \"''\", 'CC', 'CD', 'WDT', 'VBZ', 'DT', 'NN', 'IN', 'DT', 'JJ', 'NN', 'IN', '.']\n",
            "Predicted POS: ['NNP', 'NNP', ',', 'WP', 'NNP', 'NN', 'IN', 'NNP', 'NNP', ',', 'NN', 'DT', 'NNP', 'DT', '``', 'IN', 'DT', 'NN', 'NNP', \"''\", 'CC', 'DT', 'IN', 'VBN', 'DT', 'NN', 'IN', 'DT', 'NN', 'NNP', 'NN', '.']\n",
            "Macro F1-Score: 0.4889 - Precision: 0.5544 - Recall: 0.4737 - Accuracy: 0.7377\n",
            "31/31 [==============================] - 62s 2s/step - loss: 0.7458 - accuracy: 0.7831 - val_loss: 0.8082 - val_accuracy: 0.7633 - lr: 1.0000\n",
            "Epoch 8/15\n",
            "41/41 [==============================] - 4s 87ms/step\n",
            "Random phrase: [UNK] , a pillow bearing the likeness of sigmund freud , is marketed as a $ 24.95 tool for do-it-yourself analysis .\n",
            "True POS: ['NNP', ',', 'DT', 'NN', 'VBG', 'DT', 'NN', 'IN', 'NNP', 'NNP', ',', 'VBZ', 'VBN', 'IN', 'DT', '$', 'CD', 'NN', 'IN', 'JJ', 'NN', '.']\n",
            "Predicted POS: ['NNP', ',', 'DT', 'NN', 'NN', 'DT', 'NN', 'IN', 'NNP', 'NNP', ',', 'VBZ', 'RB', 'IN', 'DT', '$', 'CD', 'NN', 'IN', 'NN', 'NN', '.']\n",
            "Macro F1-Score: 0.4950 - Precision: 0.5530 - Recall: 0.4834 - Accuracy: 0.7383\n",
            "31/31 [==============================] - 59s 2s/step - loss: 0.7227 - accuracy: 0.7892 - val_loss: 0.7967 - val_accuracy: 0.7646 - lr: 1.0000\n",
            "Epoch 9/15\n",
            "41/41 [==============================] - 4s 103ms/step\n",
            "Random phrase: due to an editing error , a letter to the editor in yesterday 's edition from frederick h. hallett mistakenly identified the nrdc .\n",
            "True POS: ['JJ', 'TO', 'DT', 'NN', 'NN', ',', 'DT', 'NN', 'TO', 'DT', 'NN', 'IN', 'NN', 'POS', 'NN', 'IN', 'NNP', 'NNP', 'NNP', 'RB', 'VBD', 'DT', 'NNP', '.']\n",
            "Predicted POS: ['RB', 'TO', 'DT', 'JJ', 'NN', ',', 'DT', 'NN', 'TO', 'DT', 'NN', 'IN', 'VBD', 'POS', 'NN', 'IN', 'NNP', 'NNP', 'NNP', 'VBD', 'VBN', 'DT', 'NNP', '.']\n",
            "Macro F1-Score: 0.4972 - Precision: 0.5682 - Recall: 0.4880 - Accuracy: 0.7476\n",
            "31/31 [==============================] - 48s 2s/step - loss: 0.6992 - accuracy: 0.7933 - val_loss: 0.7656 - val_accuracy: 0.7729 - lr: 1.0000\n",
            "Epoch 10/15\n",
            "41/41 [==============================] - 4s 106ms/step\n",
            "Random phrase: mr. newhouse , meanwhile , insisted that he is n't unhappy with mr. bernstein or the performance of random house , the largest trade publishing house in the u.s. .\n",
            "True POS: ['NNP', 'NNP', ',', 'RB', ',', 'VBD', 'IN', 'PRP', 'VBZ', 'RB', 'JJ', 'IN', 'NNP', 'NNP', 'CC', 'DT', 'NN', 'IN', 'NNP', 'NNP', ',', 'DT', 'JJS', 'NN', 'VBG', 'NN', 'IN', 'DT', 'NNP', '.']\n",
            "Predicted POS: ['NNP', 'NNP', ',', 'NNP', ',', 'VBD', 'IN', 'PRP', 'VBZ', 'RB', 'VBN', 'IN', 'NNP', 'NNP', 'IN', 'DT', 'NN', 'IN', 'NN', 'NN', ',', 'DT', 'JJ', 'NNP', 'NN', 'NNP', 'IN', 'DT', 'NNP', '.']\n",
            "Macro F1-Score: 0.5137 - Precision: 0.5840 - Recall: 0.4977 - Accuracy: 0.7575\n",
            "31/31 [==============================] - 48s 2s/step - loss: 0.6642 - accuracy: 0.8027 - val_loss: 0.7372 - val_accuracy: 0.7816 - lr: 1.0000\n",
            "Epoch 11/15\n",
            "41/41 [==============================] - 4s 87ms/step\n",
            "Random phrase: but people familiar with the agenda of the board 's meeting last week in london said mr. mcgovern was fired .\n",
            "True POS: ['CC', 'NNS', 'JJ', 'IN', 'DT', 'NN', 'IN', 'DT', 'NN', 'POS', 'NN', 'JJ', 'NN', 'IN', 'NNP', 'VBD', 'NNP', 'NNP', 'VBD', 'VBN', '.']\n",
            "Predicted POS: ['RB', 'EX', 'JJ', 'IN', 'DT', 'NN', 'IN', 'DT', 'NN', 'POS', 'NN', 'IN', 'NN', 'IN', 'NNP', 'VBD', 'NNP', 'NNP', 'VBD', 'VBN', '.']\n",
            "Macro F1-Score: 0.5358 - Precision: 0.5887 - Recall: 0.5220 - Accuracy: 0.7594\n",
            "31/31 [==============================] - 48s 2s/step - loss: 0.6500 - accuracy: 0.8075 - val_loss: 0.7368 - val_accuracy: 0.7832 - lr: 1.0000\n",
            "Epoch 12/15\n",
            "41/41 [==============================] - 5s 114ms/step\n",
            "Random phrase: reliance confirmed the filing but would n't elaborate .\n",
            "True POS: ['NNP', 'VBD', 'DT', 'NN', 'CC', 'MD', 'RB', 'VB', '.']\n",
            "Predicted POS: ['NN', 'VBD', 'DT', 'NNS', 'RB', 'MD', 'VB', 'VB', '.']\n",
            "Macro F1-Score: 0.5449 - Precision: 0.5971 - Recall: 0.5364 - Accuracy: 0.7642\n",
            "31/31 [==============================] - 46s 1s/step - loss: 0.6381 - accuracy: 0.8110 - val_loss: 0.7142 - val_accuracy: 0.7877 - lr: 1.0000\n",
            "Epoch 13/15\n",
            "41/41 [==============================] - 4s 87ms/step\n",
            "Random phrase: the rating concern said the textile and clothing company 's interest expense exceeds operating profit `` by a wide margin '' and it noted united 's estimated after-tax loss of $ 24 million for the year ended june 30 .\n",
            "True POS: ['DT', 'NN', 'NN', 'VBD', 'DT', 'NN', 'CC', 'NN', 'NN', 'POS', 'NN', 'NN', 'VBZ', 'NN', 'NN', '``', 'IN', 'DT', 'JJ', 'NN', \"''\", 'CC', 'PRP', 'VBD', 'NNP', 'POS', 'VBN', 'JJ', 'NN', 'IN', '$', 'CD', 'CD', 'IN', 'DT', 'NN', 'VBD', 'NNP', 'CD', '.']\n",
            "Predicted POS: ['DT', 'NN', 'NN', 'VBD', 'DT', 'NN', 'CC', 'VBG', 'NN', 'POS', 'JJ', 'JJ', 'VBZ', 'NN', 'NN', '``', 'VBD', 'DT', 'JJ', 'NN', \"''\", 'CC', 'PRP', 'VBN', 'NNP', 'POS', 'CD', 'JJ', 'NN', 'IN', '$', 'CD', 'CD', 'IN', 'DT', 'NN', 'JJ', 'NNP', 'CD', '.']\n",
            "Macro F1-Score: 0.5347 - Precision: 0.6157 - Recall: 0.5175 - Accuracy: 0.7627\n",
            "31/31 [==============================] - 46s 2s/step - loss: 0.6153 - accuracy: 0.8173 - val_loss: 0.7127 - val_accuracy: 0.7864 - lr: 1.0000\n",
            "Epoch 14/15\n",
            "41/41 [==============================] - 4s 89ms/step\n",
            "Random phrase: mr. harper , a veteran of several manufacturing companies who joined campbell in 1986 , will take charge of all overseas operations as well as pepperidge .\n",
            "True POS: ['NNP', 'NNP', ',', 'DT', 'NN', 'IN', 'JJ', 'VBG', 'NNS', 'WP', 'VBD', 'NNP', 'IN', 'CD', ',', 'MD', 'VB', 'NN', 'IN', 'DT', 'JJ', 'NNS', 'RB', 'RB', 'IN', 'NNP', '.']\n",
            "Predicted POS: ['NNP', 'NNP', ',', 'DT', 'NN', 'IN', 'JJ', 'NN', 'NNS', 'WP', 'VBN', 'NNP', 'IN', 'CD', ',', 'MD', 'VB', 'NN', 'IN', 'DT', 'NNS', 'NN', 'IN', 'IN', 'IN', 'NNP', '.']\n",
            "Macro F1-Score: 0.5401 - Precision: 0.5977 - Recall: 0.5257 - Accuracy: 0.7638\n",
            "31/31 [==============================] - 47s 2s/step - loss: 0.5976 - accuracy: 0.8210 - val_loss: 0.7091 - val_accuracy: 0.7876 - lr: 1.0000\n",
            "Epoch 15/15\n",
            "41/41 [==============================] - 5s 120ms/step\n",
            "Random phrase: for all the furor , there is nothing particularly complex about the concept of stock-index arbitrage , the most controversial type of computer-assisted program trading .\n",
            "True POS: ['IN', 'PDT', 'DT', 'NN', ',', 'EX', 'VBZ', 'NN', 'RB', 'JJ', 'IN', 'DT', 'NN', 'IN', 'JJ', 'NN', ',', 'DT', 'RBS', 'JJ', 'NN', 'IN', 'JJ', 'NN', 'NN', '.']\n",
            "Predicted POS: ['IN', 'IN', 'DT', 'NN', ',', 'EX', 'VBZ', 'RB', 'JJ', 'NN', 'IN', 'DT', 'NN', 'IN', 'JJ', 'NN', ',', 'DT', 'JJ', 'JJ', 'NN', 'IN', 'JJ', 'NN', 'NN', '.']\n",
            "Macro F1-Score: 0.5524 - Precision: 0.6269 - Recall: 0.5357 - Accuracy: 0.7727\n",
            "31/31 [==============================] - 45s 1s/step - loss: 0.5904 - accuracy: 0.8220 - val_loss: 0.6878 - val_accuracy: 0.7955 - lr: 1.0000\n"
          ]
        }
      ],
      "source": [
        "model = baseline\n",
        "model.compile(loss='categorical_crossentropy', metrics=['accuracy'], optimizer=tf.keras.optimizers.experimental.Adadelta(learning_rate=1))\n",
        "\n",
        "if not train:\n",
        "    model.load_weights(\"model_1_01.h5\")\n",
        "    print(\"Loaded model from disk\")\n",
        "else:\n",
        "    history = model.fit(x_train_pad, y_train_pad, batch_size=batch_size, epochs=15,\n",
        "                        validation_data=(x_val_pad, y_val_pad), verbose=1,\n",
        "                        callbacks=[metrics_callback, early_stopping, reduce_lr, lr_scheduler])"
      ]
    },
    {
      "cell_type": "code",
      "execution_count": 41,
      "metadata": {
        "colab": {
          "base_uri": "https://localhost:8080/"
        },
        "id": "jlE3i98LhlJN",
        "outputId": "94b73aac-93ef-47dc-d600-2b65beabbf04"
      },
      "outputs": [
        {
          "output_type": "stream",
          "name": "stdout",
          "text": [
            "Saved model to disk\n"
          ]
        }
      ],
      "source": [
        "model.save_weights(\"baseline_01.h5\")\n",
        "print(\"Saved model to disk\")"
      ]
    },
    {
      "cell_type": "code",
      "execution_count": 42,
      "metadata": {
        "execution": {
          "iopub.execute_input": "2023-11-20T19:13:41.711551Z",
          "iopub.status.busy": "2023-11-20T19:13:41.706588Z",
          "iopub.status.idle": "2023-11-20T19:14:30.736385Z",
          "shell.execute_reply": "2023-11-20T19:14:30.735457Z",
          "shell.execute_reply.started": "2023-11-20T19:13:41.711502Z"
        },
        "id": "qfR3InKSnDuk",
        "trusted": true,
        "colab": {
          "base_uri": "https://localhost:8080/"
        },
        "outputId": "054b2c27-22ad-4a2f-f4ab-3dab8d1f65c5"
      },
      "outputs": [
        {
          "output_type": "stream",
          "name": "stdout",
          "text": [
            "21/21 [==============================] - 2s 95ms/step - loss: 0.6127 - accuracy: 0.8138\n"
          ]
        }
      ],
      "source": [
        "test_scores = model.evaluate(x_test_pad, y_test_pad)"
      ]
    },
    {
      "cell_type": "code",
      "execution_count": 43,
      "metadata": {
        "colab": {
          "base_uri": "https://localhost:8080/"
        },
        "execution": {
          "iopub.execute_input": "2023-11-20T19:16:32.905700Z",
          "iopub.status.busy": "2023-11-20T19:16:32.904833Z",
          "iopub.status.idle": "2023-11-20T19:16:39.759496Z",
          "shell.execute_reply": "2023-11-20T19:16:39.758391Z",
          "shell.execute_reply.started": "2023-11-20T19:16:32.905657Z"
        },
        "id": "9PWRk8LIerKX",
        "outputId": "7176e55d-532b-47cb-b394-6431cd674812",
        "trusted": true
      },
      "outputs": [
        {
          "output_type": "stream",
          "name": "stdout",
          "text": [
            "21/21 [==============================] - 3s 122ms/step\n",
            "Random phrase: valley federal also added $ 18 million to realestate loan reserves and eliminated $ 9.9 million of good will .\n",
            "True POS: ['NNP', 'NNP', 'RB', 'VBD', '$', 'CD', 'CD', 'TO', 'VB', 'NN', 'NNS', 'CC', 'VBN', '$', 'CD', 'CD', 'IN', 'JJ', 'NN', '.']\n",
            "Predicted POS: ['NNP', 'NN', 'RB', 'VBD', '$', 'CD', 'CD', 'TO', 'JJ', 'NN', 'NN', 'CC', 'RB', '$', 'CD', 'CD', 'IN', 'JJ', 'MD', '.']\n"
          ]
        }
      ],
      "source": [
        "pred = model.predict(x_test_pad)\n",
        "p = np.random.randint(0, len(x_test))\n",
        "len_of_phrase = len(x_test[p])\n",
        "print(f\"Random phrase: {decode_phrase(x_test[p])}\")\n",
        "print(f\"True POS: {int_to_pos(y_test[p])}\")\n",
        "print(f\"Predicted POS: {int_to_pos(pred[p][0:len_of_phrase])}\")"
      ]
    },
    {
      "cell_type": "code",
      "execution_count": 50,
      "metadata": {
        "id": "zyCnuU9Wm1lY"
      },
      "outputs": [],
      "source": [
        "def merge_dict(dict1, dict2):\n",
        "    final_dict = {}\n",
        "\n",
        "    for key in dict1.keys():\n",
        "        final_dict[key] = dict1[key] + dict2[key]\n",
        "\n",
        "    return final_dict"
      ]
    },
    {
      "cell_type": "code",
      "source": [
        "metrics_dict = metrics_callback.get_metrics_dict()"
      ],
      "metadata": {
        "id": "J1TuKX7vlEkz"
      },
      "execution_count": 47,
      "outputs": []
    },
    {
      "cell_type": "code",
      "execution_count": null,
      "metadata": {
        "id": "7kDVRyE6m3hm"
      },
      "outputs": [],
      "source": [
        "# final_history = merge_dict(history.history, history_2.history)\n",
        "# final_metrics = merge_dict(metrics_dict, metrics_dict_2)"
      ]
    },
    {
      "cell_type": "code",
      "execution_count": 44,
      "metadata": {
        "colab": {
          "base_uri": "https://localhost:8080/",
          "height": 927
        },
        "id": "4kLdlaZXZcn1",
        "outputId": "ebc93dc5-ce39-4232-c34f-3207b060eaa5"
      },
      "outputs": [
        {
          "output_type": "display_data",
          "data": {
            "text/plain": [
              "<Figure size 640x480 with 1 Axes>"
            ],
            "image/png": "[encoded data removed]"
          },
          "metadata": {}
        },
        {
          "output_type": "display_data",
          "data": {
            "text/plain": [
              "<Figure size 640x480 with 1 Axes>"
            ],
            "image/png": "[encoded data removed]"
          },
          "metadata": {}
        }
      ],
      "source": [
        "import matplotlib.pyplot as plt\n",
        "\n",
        "def metrics_plots():\n",
        "    metrics_dict = metrics_callback.get_metrics_dict()\n",
        "    keys = list(metrics_dict.keys())\n",
        "    plt.figure()\n",
        "    plt.title('macro_f1 - precision - recall')\n",
        "    plt.xlabel(\"Epochs\")\n",
        "    plt.ylabel(\"Metrics\")\n",
        "    for metric in keys:\n",
        "        if metric != 'accuracy':\n",
        "            plt.plot(np.mean(list(metrics_dict[metric].values()), axis=0), label=metric)\n",
        "    plt.legend()\n",
        "    plt.show()\n",
        "\n",
        "    plt.figure()\n",
        "    plt.title('accuracy')\n",
        "    plt.xlabel(\"Epochs\")\n",
        "    plt.ylabel(\"Metrics\")\n",
        "    plt.plot(metrics_dict['accuracy'], label='accuracy')\n",
        "    plt.legend()\n",
        "    plt.show()\n",
        "\n",
        "metrics_plots()"
      ]
    },
    {
      "cell_type": "code",
      "execution_count": 45,
      "metadata": {
        "execution": {
          "iopub.status.busy": "2023-11-20T14:33:50.973859Z",
          "iopub.status.idle": "2023-11-20T14:33:50.974190Z",
          "shell.execute_reply": "2023-11-20T14:33:50.974045Z",
          "shell.execute_reply.started": "2023-11-20T14:33:50.974029Z"
        },
        "id": "0dANa_YzerKX",
        "trusted": true,
        "colab": {
          "base_uri": "https://localhost:8080/",
          "height": 881
        },
        "outputId": "9763005d-4f76-4732-e1c9-c8870840531d"
      },
      "outputs": [
        {
          "output_type": "display_data",
          "data": {
            "text/plain": [
              "<Figure size 640x480 with 1 Axes>"
            ],
            "image/png": "[encoded data removed]"
          },
          "metadata": {}
        },
        {
          "output_type": "display_data",
          "data": {
            "text/plain": [
              "<Figure size 640x480 with 1 Axes>"
            ],
            "image/png": "[encoded data removed]"
          },
          "metadata": {}
        }
      ],
      "source": [
        "def graph_plots(history, string):\n",
        "  plt.plot(history[string])\n",
        "  plt.plot(history['val_'+string])\n",
        "  plt.xlabel(\"Epochs\")\n",
        "  plt.ylabel(string)\n",
        "  plt.legend([string, 'val_'+string])\n",
        "  plt.show()\n",
        "\n",
        "graph_plots(history.history, \"accuracy\")\n",
        "graph_plots(history.history, \"loss\")"
      ]
    },
    {
      "cell_type": "markdown",
      "metadata": {
        "id": "ldnDXMJberKY"
      },
      "source": [
        "# [Task 6 - 1.0 points] Error Analysis\n",
        "\n",
        "You are tasked to evaluate your best performing model."
      ]
    },
    {
      "cell_type": "markdown",
      "metadata": {
        "id": "bkJt90bTerKY"
      },
      "source": [
        "### Instructions\n",
        "\n",
        "* Compare the errors made on the validation and test sets.\n",
        "* Aggregate model errors into categories (if possible)\n",
        "* Comment the about errors and propose possible solutions on how to address them."
      ]
    },
    {
      "cell_type": "markdown",
      "metadata": {
        "id": "ZDyrD2lkerKY"
      },
      "source": [
        "# [Task 7 - 1.0 points] Report\n",
        "\n",
        "Wrap up your experiment in a short report (up to 2 pages)."
      ]
    },
    {
      "cell_type": "markdown",
      "metadata": {
        "id": "mzXPl4a8erKY"
      },
      "source": [
        "### Instructions\n",
        "\n",
        "* Use the NLP course report template.\n",
        "* Summarize each task in the report following the provided template."
      ]
    },
    {
      "cell_type": "markdown",
      "metadata": {
        "id": "TwgIk9cMerKY"
      },
      "source": [
        "### Recommendations\n",
        "\n",
        "The report is not a copy-paste of graphs, tables, and command outputs.\n",
        "\n",
        "* Summarize classification performance in Table format.\n",
        "* **Do not** report command outputs or screenshots.\n",
        "* Report learning curves in Figure format.\n",
        "* The error analysis section should summarize your findings."
      ]
    },
    {
      "cell_type": "markdown",
      "metadata": {
        "id": "soQhVYWUerKY"
      },
      "source": [
        "# Submission\n",
        "\n",
        "* **Submit** your report in PDF format.\n",
        "* **Submit** your python notebook.\n",
        "* Make sure your notebook is **well organized**, with no temporary code, commented sections, tests, etc...\n",
        "* You can upload **model weights** in a cloud repository and report the link in the report."
      ]
    },
    {
      "cell_type": "markdown",
      "metadata": {
        "id": "9gvMpihcerKY"
      },
      "source": [
        "# FAQ\n",
        "\n",
        "Please check this frequently asked questions before contacting us"
      ]
    },
    {
      "cell_type": "markdown",
      "metadata": {
        "id": "6U_Mw939erKY"
      },
      "source": [
        "### Trainable Embeddings\n",
        "\n",
        "You are **free** to define a trainable or non-trainable Embedding layer to load the GloVe embeddings."
      ]
    },
    {
      "cell_type": "markdown",
      "metadata": {
        "id": "XipBlZuWerKY"
      },
      "source": [
        "### Model architecture\n",
        "\n",
        "You **should not** change the architecture of a model (i.e., its layers).\n",
        "\n",
        "However, you are **free** to play with their hyper-parameters."
      ]
    },
    {
      "cell_type": "markdown",
      "metadata": {
        "id": "sxly3ITzerKZ"
      },
      "source": [
        "### Neural Libraries\n",
        "\n",
        "You are **free** to use any library of your choice to implement the networks (e.g., Keras, Tensorflow, PyTorch, JAX, etc...)"
      ]
    },
    {
      "cell_type": "markdown",
      "metadata": {
        "id": "6ekET0dqerKZ"
      },
      "source": [
        "### Keras TimeDistributed Dense layer\n",
        "\n",
        "If you are using Keras, we recommend wrapping the final Dense layer with `TimeDistributed`."
      ]
    },
    {
      "cell_type": "markdown",
      "metadata": {
        "id": "skoUzF-LerKZ"
      },
      "source": [
        "### Error Analysis\n",
        "\n",
        "Some topics for discussion include:\n",
        "   * Model performance on most/less frequent classes.\n",
        "   * Precision/Recall curves.\n",
        "   * Confusion matrices.\n",
        "   * Specific misclassified samples."
      ]
    },
    {
      "cell_type": "markdown",
      "metadata": {
        "id": "pVnkFOYverKZ"
      },
      "source": [
        "### Punctuation\n",
        "\n",
        "**Do not** remove punctuation from documents since it may be helpful to the model.\n",
        "\n",
        "You should **ignore** it during metrics computation.\n",
        "\n",
        "If you are curious, you can run additional experiments to verify the impact of removing punctuation."
      ]
    },
    {
      "cell_type": "markdown",
      "metadata": {
        "id": "0FVm4juGerKZ"
      },
      "source": [
        "# The End"
      ]
    }
  ],
  "metadata": {
    "accelerator": "GPU",
    "celltoolbar": "Slideshow",
    "colab": {
      "gpuType": "T4",
      "provenance": []
    },
    "kaggle": {
      "accelerator": "nvidiaTeslaT4",
      "dataSources": [],
      "dockerImageVersionId": 30588,
      "isGpuEnabled": true,
      "isInternetEnabled": true,
      "language": "python",
      "sourceType": "notebook"
    },
    "kernelspec": {
      "display_name": "Python 3",
      "language": "python",
      "name": "python3"
    },
    "language_info": {
      "codemirror_mode": {
        "name": "ipython",
        "version": 3
      },
      "file_extension": ".py",
      "mimetype": "text/x-python",
      "name": "python",
      "nbconvert_exporter": "python",
      "pygments_lexer": "ipython3",
      "version": "3.10.11"
    }
  },
  "nbformat": 4,
  "nbformat_minor": 0
}